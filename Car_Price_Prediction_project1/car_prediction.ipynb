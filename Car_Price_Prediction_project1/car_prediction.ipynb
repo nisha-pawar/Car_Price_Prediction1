{
 "cells": [
  {
   "cell_type": "code",
   "execution_count": 111,
   "id": "21ff6959-d41f-4b64-8912-acb6cc421266",
   "metadata": {},
   "outputs": [],
   "source": [
    "import pandas as pd\n",
    "import numpy as np"
   ]
  },
  {
   "cell_type": "code",
   "execution_count": 112,
   "id": "1b3e9779-e015-4912-8adf-f94b8ba92791",
   "metadata": {},
   "outputs": [],
   "source": [
    "car=pd.read_csv('After_deletion_data.csv')"
   ]
  },
  {
   "cell_type": "code",
   "execution_count": 113,
   "id": "2be924fe-5c84-40cd-ab80-703d69fcf5ac",
   "metadata": {},
   "outputs": [
    {
     "data": {
      "text/html": [
       "<div>\n",
       "<style scoped>\n",
       "    .dataframe tbody tr th:only-of-type {\n",
       "        vertical-align: middle;\n",
       "    }\n",
       "\n",
       "    .dataframe tbody tr th {\n",
       "        vertical-align: top;\n",
       "    }\n",
       "\n",
       "    .dataframe thead th {\n",
       "        text-align: right;\n",
       "    }\n",
       "</style>\n",
       "<table border=\"1\" class=\"dataframe\">\n",
       "  <thead>\n",
       "    <tr style=\"text-align: right;\">\n",
       "      <th></th>\n",
       "      <th>Unnamed: 0</th>\n",
       "      <th>Name</th>\n",
       "      <th>Year</th>\n",
       "      <th>Kilometers_Driven</th>\n",
       "      <th>Fuel_Type</th>\n",
       "      <th>Mileage</th>\n",
       "      <th>Engine</th>\n",
       "      <th>Power</th>\n",
       "      <th>Seats</th>\n",
       "      <th>New_Price</th>\n",
       "    </tr>\n",
       "  </thead>\n",
       "  <tbody>\n",
       "    <tr>\n",
       "      <th>0</th>\n",
       "      <td>0</td>\n",
       "      <td>Maruti Alto K10 LXI CNG</td>\n",
       "      <td>2014</td>\n",
       "      <td>40929</td>\n",
       "      <td>CNG</td>\n",
       "      <td>32.26 km/kg</td>\n",
       "      <td>998 CC</td>\n",
       "      <td>58.2 bhp</td>\n",
       "      <td>4.0</td>\n",
       "      <td>NaN</td>\n",
       "    </tr>\n",
       "    <tr>\n",
       "      <th>1</th>\n",
       "      <td>1</td>\n",
       "      <td>Maruti Alto 800 2016-2019 LXI</td>\n",
       "      <td>2013</td>\n",
       "      <td>54493</td>\n",
       "      <td>Petrol</td>\n",
       "      <td>24.7 kmpl</td>\n",
       "      <td>796 CC</td>\n",
       "      <td>47.3 bhp</td>\n",
       "      <td>5.0</td>\n",
       "      <td>NaN</td>\n",
       "    </tr>\n",
       "    <tr>\n",
       "      <th>2</th>\n",
       "      <td>2</td>\n",
       "      <td>Toyota Innova Crysta Touring Sport 2.4 MT</td>\n",
       "      <td>2017</td>\n",
       "      <td>34000</td>\n",
       "      <td>Diesel</td>\n",
       "      <td>13.68 kmpl</td>\n",
       "      <td>2393 CC</td>\n",
       "      <td>147.8 bhp</td>\n",
       "      <td>7.0</td>\n",
       "      <td>25.27 Lakh</td>\n",
       "    </tr>\n",
       "    <tr>\n",
       "      <th>3</th>\n",
       "      <td>3</td>\n",
       "      <td>Toyota Etios Liva GD</td>\n",
       "      <td>2012</td>\n",
       "      <td>139000</td>\n",
       "      <td>Diesel</td>\n",
       "      <td>23.59 kmpl</td>\n",
       "      <td>1364 CC</td>\n",
       "      <td>null bhp</td>\n",
       "      <td>5.0</td>\n",
       "      <td>NaN</td>\n",
       "    </tr>\n",
       "    <tr>\n",
       "      <th>4</th>\n",
       "      <td>4</td>\n",
       "      <td>Hyundai i20 Magna</td>\n",
       "      <td>2014</td>\n",
       "      <td>29000</td>\n",
       "      <td>Petrol</td>\n",
       "      <td>18.5 kmpl</td>\n",
       "      <td>1197 CC</td>\n",
       "      <td>82.85 bhp</td>\n",
       "      <td>5.0</td>\n",
       "      <td>NaN</td>\n",
       "    </tr>\n",
       "  </tbody>\n",
       "</table>\n",
       "</div>"
      ],
      "text/plain": [
       "   Unnamed: 0                                       Name  Year  \\\n",
       "0           0                    Maruti Alto K10 LXI CNG  2014   \n",
       "1           1              Maruti Alto 800 2016-2019 LXI  2013   \n",
       "2           2  Toyota Innova Crysta Touring Sport 2.4 MT  2017   \n",
       "3           3                       Toyota Etios Liva GD  2012   \n",
       "4           4                          Hyundai i20 Magna  2014   \n",
       "\n",
       "   Kilometers_Driven Fuel_Type      Mileage   Engine      Power  Seats  \\\n",
       "0              40929       CNG  32.26 km/kg   998 CC   58.2 bhp    4.0   \n",
       "1              54493    Petrol    24.7 kmpl   796 CC   47.3 bhp    5.0   \n",
       "2              34000    Diesel   13.68 kmpl  2393 CC  147.8 bhp    7.0   \n",
       "3             139000    Diesel   23.59 kmpl  1364 CC   null bhp    5.0   \n",
       "4              29000    Petrol    18.5 kmpl  1197 CC  82.85 bhp    5.0   \n",
       "\n",
       "    New_Price  \n",
       "0         NaN  \n",
       "1         NaN  \n",
       "2  25.27 Lakh  \n",
       "3         NaN  \n",
       "4         NaN  "
      ]
     },
     "execution_count": 113,
     "metadata": {},
     "output_type": "execute_result"
    }
   ],
   "source": [
    "car.head()"
   ]
  },
  {
   "cell_type": "code",
   "execution_count": 114,
   "id": "bd451289-f2fa-4085-ab28-07fc52926f2d",
   "metadata": {},
   "outputs": [
    {
     "data": {
      "text/plain": [
       "(1234, 10)"
      ]
     },
     "execution_count": 114,
     "metadata": {},
     "output_type": "execute_result"
    }
   ],
   "source": [
    "car.shape"
   ]
  },
  {
   "cell_type": "code",
   "execution_count": 115,
   "id": "eaab81ca-1193-45d1-9bc5-036ca6f82757",
   "metadata": {},
   "outputs": [],
   "source": [
    "car=car.drop(columns=['Unnamed: 0'])"
   ]
  },
  {
   "cell_type": "code",
   "execution_count": 116,
   "id": "fc39f3b5-9734-4e97-b2a3-a3b24a33741d",
   "metadata": {},
   "outputs": [
    {
     "data": {
      "text/html": [
       "<div>\n",
       "<style scoped>\n",
       "    .dataframe tbody tr th:only-of-type {\n",
       "        vertical-align: middle;\n",
       "    }\n",
       "\n",
       "    .dataframe tbody tr th {\n",
       "        vertical-align: top;\n",
       "    }\n",
       "\n",
       "    .dataframe thead th {\n",
       "        text-align: right;\n",
       "    }\n",
       "</style>\n",
       "<table border=\"1\" class=\"dataframe\">\n",
       "  <thead>\n",
       "    <tr style=\"text-align: right;\">\n",
       "      <th></th>\n",
       "      <th>Name</th>\n",
       "      <th>Year</th>\n",
       "      <th>Kilometers_Driven</th>\n",
       "      <th>Fuel_Type</th>\n",
       "      <th>Mileage</th>\n",
       "      <th>Engine</th>\n",
       "      <th>Power</th>\n",
       "      <th>Seats</th>\n",
       "      <th>New_Price</th>\n",
       "    </tr>\n",
       "  </thead>\n",
       "  <tbody>\n",
       "    <tr>\n",
       "      <th>0</th>\n",
       "      <td>Maruti Alto K10 LXI CNG</td>\n",
       "      <td>2014</td>\n",
       "      <td>40929</td>\n",
       "      <td>CNG</td>\n",
       "      <td>32.26 km/kg</td>\n",
       "      <td>998 CC</td>\n",
       "      <td>58.2 bhp</td>\n",
       "      <td>4.0</td>\n",
       "      <td>NaN</td>\n",
       "    </tr>\n",
       "    <tr>\n",
       "      <th>1</th>\n",
       "      <td>Maruti Alto 800 2016-2019 LXI</td>\n",
       "      <td>2013</td>\n",
       "      <td>54493</td>\n",
       "      <td>Petrol</td>\n",
       "      <td>24.7 kmpl</td>\n",
       "      <td>796 CC</td>\n",
       "      <td>47.3 bhp</td>\n",
       "      <td>5.0</td>\n",
       "      <td>NaN</td>\n",
       "    </tr>\n",
       "    <tr>\n",
       "      <th>2</th>\n",
       "      <td>Toyota Innova Crysta Touring Sport 2.4 MT</td>\n",
       "      <td>2017</td>\n",
       "      <td>34000</td>\n",
       "      <td>Diesel</td>\n",
       "      <td>13.68 kmpl</td>\n",
       "      <td>2393 CC</td>\n",
       "      <td>147.8 bhp</td>\n",
       "      <td>7.0</td>\n",
       "      <td>25.27 Lakh</td>\n",
       "    </tr>\n",
       "    <tr>\n",
       "      <th>3</th>\n",
       "      <td>Toyota Etios Liva GD</td>\n",
       "      <td>2012</td>\n",
       "      <td>139000</td>\n",
       "      <td>Diesel</td>\n",
       "      <td>23.59 kmpl</td>\n",
       "      <td>1364 CC</td>\n",
       "      <td>null bhp</td>\n",
       "      <td>5.0</td>\n",
       "      <td>NaN</td>\n",
       "    </tr>\n",
       "    <tr>\n",
       "      <th>4</th>\n",
       "      <td>Hyundai i20 Magna</td>\n",
       "      <td>2014</td>\n",
       "      <td>29000</td>\n",
       "      <td>Petrol</td>\n",
       "      <td>18.5 kmpl</td>\n",
       "      <td>1197 CC</td>\n",
       "      <td>82.85 bhp</td>\n",
       "      <td>5.0</td>\n",
       "      <td>NaN</td>\n",
       "    </tr>\n",
       "  </tbody>\n",
       "</table>\n",
       "</div>"
      ],
      "text/plain": [
       "                                        Name  Year  Kilometers_Driven  \\\n",
       "0                    Maruti Alto K10 LXI CNG  2014              40929   \n",
       "1              Maruti Alto 800 2016-2019 LXI  2013              54493   \n",
       "2  Toyota Innova Crysta Touring Sport 2.4 MT  2017              34000   \n",
       "3                       Toyota Etios Liva GD  2012             139000   \n",
       "4                          Hyundai i20 Magna  2014              29000   \n",
       "\n",
       "  Fuel_Type      Mileage   Engine      Power  Seats   New_Price  \n",
       "0       CNG  32.26 km/kg   998 CC   58.2 bhp    4.0         NaN  \n",
       "1    Petrol    24.7 kmpl   796 CC   47.3 bhp    5.0         NaN  \n",
       "2    Diesel   13.68 kmpl  2393 CC  147.8 bhp    7.0  25.27 Lakh  \n",
       "3    Diesel   23.59 kmpl  1364 CC   null bhp    5.0         NaN  \n",
       "4    Petrol    18.5 kmpl  1197 CC  82.85 bhp    5.0         NaN  "
      ]
     },
     "execution_count": 116,
     "metadata": {},
     "output_type": "execute_result"
    }
   ],
   "source": [
    "car.head()"
   ]
  },
  {
   "cell_type": "code",
   "execution_count": 117,
   "id": "72507a38-ebd0-4820-a68f-27cce52e42d1",
   "metadata": {},
   "outputs": [
    {
     "name": "stdout",
     "output_type": "stream",
     "text": [
      "<class 'pandas.core.frame.DataFrame'>\n",
      "RangeIndex: 1234 entries, 0 to 1233\n",
      "Data columns (total 9 columns):\n",
      " #   Column             Non-Null Count  Dtype  \n",
      "---  ------             --------------  -----  \n",
      " 0   Name               1234 non-null   object \n",
      " 1   Year               1234 non-null   int64  \n",
      " 2   Kilometers_Driven  1234 non-null   int64  \n",
      " 3   Fuel_Type          1234 non-null   object \n",
      " 4   Mileage            1234 non-null   object \n",
      " 5   Engine             1224 non-null   object \n",
      " 6   Power              1224 non-null   object \n",
      " 7   Seats              1223 non-null   float64\n",
      " 8   New_Price          182 non-null    object \n",
      "dtypes: float64(1), int64(2), object(6)\n",
      "memory usage: 86.9+ KB\n"
     ]
    }
   ],
   "source": [
    "car.info()"
   ]
  },
  {
   "cell_type": "code",
   "execution_count": 118,
   "id": "500a7a17-0a39-4f90-bcaa-452054bcc7dc",
   "metadata": {},
   "outputs": [],
   "source": [
    "car.dropna(subset=['New_Price'], inplace=True)"
   ]
  },
  {
   "cell_type": "code",
   "execution_count": 119,
   "id": "52316a65-0e63-4657-86ae-190addf04576",
   "metadata": {},
   "outputs": [
    {
     "name": "stdout",
     "output_type": "stream",
     "text": [
      "<class 'pandas.core.frame.DataFrame'>\n",
      "Index: 182 entries, 2 to 1217\n",
      "Data columns (total 9 columns):\n",
      " #   Column             Non-Null Count  Dtype  \n",
      "---  ------             --------------  -----  \n",
      " 0   Name               182 non-null    object \n",
      " 1   Year               182 non-null    int64  \n",
      " 2   Kilometers_Driven  182 non-null    int64  \n",
      " 3   Fuel_Type          182 non-null    object \n",
      " 4   Mileage            182 non-null    object \n",
      " 5   Engine             182 non-null    object \n",
      " 6   Power              182 non-null    object \n",
      " 7   Seats              182 non-null    float64\n",
      " 8   New_Price          182 non-null    object \n",
      "dtypes: float64(1), int64(2), object(6)\n",
      "memory usage: 14.2+ KB\n"
     ]
    }
   ],
   "source": [
    "car.info()"
   ]
  },
  {
   "cell_type": "code",
   "execution_count": 120,
   "id": "71b8165d-7577-4311-b037-272fcc3ca4b2",
   "metadata": {},
   "outputs": [
    {
     "data": {
      "text/html": [
       "<div>\n",
       "<style scoped>\n",
       "    .dataframe tbody tr th:only-of-type {\n",
       "        vertical-align: middle;\n",
       "    }\n",
       "\n",
       "    .dataframe tbody tr th {\n",
       "        vertical-align: top;\n",
       "    }\n",
       "\n",
       "    .dataframe thead th {\n",
       "        text-align: right;\n",
       "    }\n",
       "</style>\n",
       "<table border=\"1\" class=\"dataframe\">\n",
       "  <thead>\n",
       "    <tr style=\"text-align: right;\">\n",
       "      <th></th>\n",
       "      <th>Name</th>\n",
       "      <th>Year</th>\n",
       "      <th>Kilometers_Driven</th>\n",
       "      <th>Fuel_Type</th>\n",
       "      <th>Mileage</th>\n",
       "      <th>Engine</th>\n",
       "      <th>Power</th>\n",
       "      <th>Seats</th>\n",
       "      <th>New_Price</th>\n",
       "    </tr>\n",
       "  </thead>\n",
       "  <tbody>\n",
       "    <tr>\n",
       "      <th>2</th>\n",
       "      <td>Toyota Innova Crysta Touring Sport 2.4 MT</td>\n",
       "      <td>2017</td>\n",
       "      <td>34000</td>\n",
       "      <td>Diesel</td>\n",
       "      <td>13.68 kmpl</td>\n",
       "      <td>2393 CC</td>\n",
       "      <td>147.8 bhp</td>\n",
       "      <td>7.0</td>\n",
       "      <td>25.27 Lakh</td>\n",
       "    </tr>\n",
       "    <tr>\n",
       "      <th>30</th>\n",
       "      <td>Toyota Etios Cross 1.4L VD</td>\n",
       "      <td>2014</td>\n",
       "      <td>70000</td>\n",
       "      <td>Diesel</td>\n",
       "      <td>23.59 kmpl</td>\n",
       "      <td>1364 CC</td>\n",
       "      <td>67.06 bhp</td>\n",
       "      <td>5.0</td>\n",
       "      <td>9.27 Lakh</td>\n",
       "    </tr>\n",
       "    <tr>\n",
       "      <th>36</th>\n",
       "      <td>Skoda Rapid 1.6 MPI AT Style</td>\n",
       "      <td>2017</td>\n",
       "      <td>13500</td>\n",
       "      <td>Petrol</td>\n",
       "      <td>14.84 kmpl</td>\n",
       "      <td>1598 CC</td>\n",
       "      <td>103.52 bhp</td>\n",
       "      <td>5.0</td>\n",
       "      <td>14.95 Lakh</td>\n",
       "    </tr>\n",
       "    <tr>\n",
       "      <th>39</th>\n",
       "      <td>BMW 5 Series 520d Luxury Line</td>\n",
       "      <td>2012</td>\n",
       "      <td>66889</td>\n",
       "      <td>Diesel</td>\n",
       "      <td>22.48 kmpl</td>\n",
       "      <td>1995 CC</td>\n",
       "      <td>190 bhp</td>\n",
       "      <td>5.0</td>\n",
       "      <td>70.43 Lakh</td>\n",
       "    </tr>\n",
       "    <tr>\n",
       "      <th>43</th>\n",
       "      <td>Skoda Rapid 1.6 MPI Ambition</td>\n",
       "      <td>2018</td>\n",
       "      <td>4000</td>\n",
       "      <td>Petrol</td>\n",
       "      <td>15.41 kmpl</td>\n",
       "      <td>1598 CC</td>\n",
       "      <td>103.52 bhp</td>\n",
       "      <td>5.0</td>\n",
       "      <td>11.89 Lakh</td>\n",
       "    </tr>\n",
       "  </tbody>\n",
       "</table>\n",
       "</div>"
      ],
      "text/plain": [
       "                                         Name  Year  Kilometers_Driven  \\\n",
       "2   Toyota Innova Crysta Touring Sport 2.4 MT  2017              34000   \n",
       "30                 Toyota Etios Cross 1.4L VD  2014              70000   \n",
       "36               Skoda Rapid 1.6 MPI AT Style  2017              13500   \n",
       "39              BMW 5 Series 520d Luxury Line  2012              66889   \n",
       "43               Skoda Rapid 1.6 MPI Ambition  2018               4000   \n",
       "\n",
       "   Fuel_Type     Mileage   Engine       Power  Seats   New_Price  \n",
       "2     Diesel  13.68 kmpl  2393 CC   147.8 bhp    7.0  25.27 Lakh  \n",
       "30    Diesel  23.59 kmpl  1364 CC   67.06 bhp    5.0   9.27 Lakh  \n",
       "36    Petrol  14.84 kmpl  1598 CC  103.52 bhp    5.0  14.95 Lakh  \n",
       "39    Diesel  22.48 kmpl  1995 CC     190 bhp    5.0  70.43 Lakh  \n",
       "43    Petrol  15.41 kmpl  1598 CC  103.52 bhp    5.0  11.89 Lakh  "
      ]
     },
     "execution_count": 120,
     "metadata": {},
     "output_type": "execute_result"
    }
   ],
   "source": [
    "car.head()"
   ]
  },
  {
   "cell_type": "code",
   "execution_count": 121,
   "id": "21cf6776-4701-4e8b-b887-15570aeeac0c",
   "metadata": {},
   "outputs": [
    {
     "data": {
      "text/plain": [
       "(182, 9)"
      ]
     },
     "execution_count": 121,
     "metadata": {},
     "output_type": "execute_result"
    }
   ],
   "source": [
    "car.shape"
   ]
  },
  {
   "cell_type": "code",
   "execution_count": 122,
   "id": "6121a768-db48-4aab-bd99-5279b978853f",
   "metadata": {},
   "outputs": [],
   "source": [
    "car.reset_index(drop=True, inplace=True)"
   ]
  },
  {
   "cell_type": "code",
   "execution_count": 123,
   "id": "4d343d6e-405f-4592-82f9-128ee9cd5c52",
   "metadata": {},
   "outputs": [
    {
     "data": {
      "text/html": [
       "<div>\n",
       "<style scoped>\n",
       "    .dataframe tbody tr th:only-of-type {\n",
       "        vertical-align: middle;\n",
       "    }\n",
       "\n",
       "    .dataframe tbody tr th {\n",
       "        vertical-align: top;\n",
       "    }\n",
       "\n",
       "    .dataframe thead th {\n",
       "        text-align: right;\n",
       "    }\n",
       "</style>\n",
       "<table border=\"1\" class=\"dataframe\">\n",
       "  <thead>\n",
       "    <tr style=\"text-align: right;\">\n",
       "      <th></th>\n",
       "      <th>Name</th>\n",
       "      <th>Year</th>\n",
       "      <th>Kilometers_Driven</th>\n",
       "      <th>Fuel_Type</th>\n",
       "      <th>Mileage</th>\n",
       "      <th>Engine</th>\n",
       "      <th>Power</th>\n",
       "      <th>Seats</th>\n",
       "      <th>New_Price</th>\n",
       "    </tr>\n",
       "  </thead>\n",
       "  <tbody>\n",
       "    <tr>\n",
       "      <th>0</th>\n",
       "      <td>Toyota Innova Crysta Touring Sport 2.4 MT</td>\n",
       "      <td>2017</td>\n",
       "      <td>34000</td>\n",
       "      <td>Diesel</td>\n",
       "      <td>13.68 kmpl</td>\n",
       "      <td>2393 CC</td>\n",
       "      <td>147.8 bhp</td>\n",
       "      <td>7.0</td>\n",
       "      <td>25.27 Lakh</td>\n",
       "    </tr>\n",
       "    <tr>\n",
       "      <th>1</th>\n",
       "      <td>Toyota Etios Cross 1.4L VD</td>\n",
       "      <td>2014</td>\n",
       "      <td>70000</td>\n",
       "      <td>Diesel</td>\n",
       "      <td>23.59 kmpl</td>\n",
       "      <td>1364 CC</td>\n",
       "      <td>67.06 bhp</td>\n",
       "      <td>5.0</td>\n",
       "      <td>9.27 Lakh</td>\n",
       "    </tr>\n",
       "    <tr>\n",
       "      <th>2</th>\n",
       "      <td>Skoda Rapid 1.6 MPI AT Style</td>\n",
       "      <td>2017</td>\n",
       "      <td>13500</td>\n",
       "      <td>Petrol</td>\n",
       "      <td>14.84 kmpl</td>\n",
       "      <td>1598 CC</td>\n",
       "      <td>103.52 bhp</td>\n",
       "      <td>5.0</td>\n",
       "      <td>14.95 Lakh</td>\n",
       "    </tr>\n",
       "    <tr>\n",
       "      <th>3</th>\n",
       "      <td>BMW 5 Series 520d Luxury Line</td>\n",
       "      <td>2012</td>\n",
       "      <td>66889</td>\n",
       "      <td>Diesel</td>\n",
       "      <td>22.48 kmpl</td>\n",
       "      <td>1995 CC</td>\n",
       "      <td>190 bhp</td>\n",
       "      <td>5.0</td>\n",
       "      <td>70.43 Lakh</td>\n",
       "    </tr>\n",
       "    <tr>\n",
       "      <th>4</th>\n",
       "      <td>Skoda Rapid 1.6 MPI Ambition</td>\n",
       "      <td>2018</td>\n",
       "      <td>4000</td>\n",
       "      <td>Petrol</td>\n",
       "      <td>15.41 kmpl</td>\n",
       "      <td>1598 CC</td>\n",
       "      <td>103.52 bhp</td>\n",
       "      <td>5.0</td>\n",
       "      <td>11.89 Lakh</td>\n",
       "    </tr>\n",
       "  </tbody>\n",
       "</table>\n",
       "</div>"
      ],
      "text/plain": [
       "                                        Name  Year  Kilometers_Driven  \\\n",
       "0  Toyota Innova Crysta Touring Sport 2.4 MT  2017              34000   \n",
       "1                 Toyota Etios Cross 1.4L VD  2014              70000   \n",
       "2               Skoda Rapid 1.6 MPI AT Style  2017              13500   \n",
       "3              BMW 5 Series 520d Luxury Line  2012              66889   \n",
       "4               Skoda Rapid 1.6 MPI Ambition  2018               4000   \n",
       "\n",
       "  Fuel_Type     Mileage   Engine       Power  Seats   New_Price  \n",
       "0    Diesel  13.68 kmpl  2393 CC   147.8 bhp    7.0  25.27 Lakh  \n",
       "1    Diesel  23.59 kmpl  1364 CC   67.06 bhp    5.0   9.27 Lakh  \n",
       "2    Petrol  14.84 kmpl  1598 CC  103.52 bhp    5.0  14.95 Lakh  \n",
       "3    Diesel  22.48 kmpl  1995 CC     190 bhp    5.0  70.43 Lakh  \n",
       "4    Petrol  15.41 kmpl  1598 CC  103.52 bhp    5.0  11.89 Lakh  "
      ]
     },
     "execution_count": 123,
     "metadata": {},
     "output_type": "execute_result"
    }
   ],
   "source": [
    "car.head()"
   ]
  },
  {
   "cell_type": "code",
   "execution_count": 124,
   "id": "dbf23bf4-d71f-4a84-87b7-fabfe793d557",
   "metadata": {},
   "outputs": [
    {
     "data": {
      "text/plain": [
       "array(['13.68 kmpl', '23.59 kmpl', '14.84 kmpl', '22.48 kmpl',\n",
       "       '15.41 kmpl', '24.3 kmpl', '23.0 kmpl', '21.66 kmpl', '23.84 kmpl',\n",
       "       '20.14 kmpl', '19.16 kmpl', '21.4 kmpl', '21.9 kmpl', '18.51 kmpl',\n",
       "       '19.83 kmpl', '20.89 kmpl', '13.6 kmpl', '22.5 kmpl', '14.8 kmpl',\n",
       "       '20.64 kmpl', '24.7 kmpl', '16.77 kmpl', '18.5 kmpl', '28.4 kmpl',\n",
       "       '21.76 kmpl', '13.5 kmpl', '22.0 kmpl', '15.17 kmpl', '17.71 kmpl',\n",
       "       '18.9 kmpl', '21.19 kmpl', '21.03 kmpl', '24.07 kmpl', '20.8 kmpl',\n",
       "       '15.1 kmpl', '14.28 kmpl', '18.6 kmpl', '10.2 kmpl', '14.24 kmpl',\n",
       "       '19.69 kmpl', '18.25 kmpl', '16.38 kmpl', '19.64 kmpl',\n",
       "       '19.15 kmpl', '17.9 kmpl', '20.5 kmpl', '20.7 kmpl', '15.96 kmpl',\n",
       "       '25.4 kmpl', '15.56 kmpl', '21.5 kmpl', '25.17 kmpl', '19.0 kmpl',\n",
       "       '16.0 kmpl', '25.32 kmpl', '16.3 kmpl', '18.19 kmpl', '14.62 kmpl',\n",
       "       '17.0 kmpl', '21.72 kmpl', '11.36 kmpl', '14.67 kmpl', '25.5 kmpl',\n",
       "       '12.6 kmpl', '18.15 kmpl', '24.0 kmpl', '17.6 kmpl', '19.34 kmpl',\n",
       "       '32.26 km/kg', '21.0 kmpl', '19.87 kmpl', '18.53 kmpl',\n",
       "       '10.8 kmpl', '25.6 kmpl', '16.5 kmpl', '19.5 kmpl', '24.4 kmpl',\n",
       "       '19.6 kmpl', '14.95 kmpl', '15.4 kmpl', '16.09 kmpl', '22.54 kmpl',\n",
       "       '22.7 kmpl', '11.57 kmpl', '18.0 kmpl', '16.55 kmpl', '17.57 kmpl',\n",
       "       '22.95 kmpl', '17.1 kmpl', '13.8 kmpl', '17.4 kmpl', '27.28 kmpl'],\n",
       "      dtype=object)"
      ]
     },
     "execution_count": 124,
     "metadata": {},
     "output_type": "execute_result"
    }
   ],
   "source": [
    "car['Mileage'].unique()"
   ]
  },
  {
   "cell_type": "code",
   "execution_count": 125,
   "id": "eecce316-9da8-469c-bf97-a9e1b29f99fe",
   "metadata": {},
   "outputs": [],
   "source": [
    "car['Mileage'] = car['Mileage'].str.extract('(\\d+\\d.?\\d*)').astype(float)"
   ]
  },
  {
   "cell_type": "code",
   "execution_count": 126,
   "id": "1f6f7ffe-ad6e-4d0b-b28a-1f9dc6f3d9d3",
   "metadata": {},
   "outputs": [
    {
     "data": {
      "text/plain": [
       "array([13.68, 23.59, 14.84, 22.48, 15.41, 24.3 , 23.  , 21.66, 23.84,\n",
       "       20.14, 19.16, 21.4 , 21.9 , 18.51, 19.83, 20.89, 13.6 , 22.5 ,\n",
       "       14.8 , 20.64, 24.7 , 16.77, 18.5 , 28.4 , 21.76, 13.5 , 22.  ,\n",
       "       15.17, 17.71, 18.9 , 21.19, 21.03, 24.07, 20.8 , 15.1 , 14.28,\n",
       "       18.6 , 10.2 , 14.24, 19.69, 18.25, 16.38, 19.64, 19.15, 17.9 ,\n",
       "       20.5 , 20.7 , 15.96, 25.4 , 15.56, 21.5 , 25.17, 19.  , 16.  ,\n",
       "       25.32, 16.3 , 18.19, 14.62, 17.  , 21.72, 11.36, 14.67, 25.5 ,\n",
       "       12.6 , 18.15, 24.  , 17.6 , 19.34, 32.26, 21.  , 19.87, 18.53,\n",
       "       10.8 , 25.6 , 16.5 , 19.5 , 24.4 , 19.6 , 14.95, 15.4 , 16.09,\n",
       "       22.54, 22.7 , 11.57, 18.  , 16.55, 17.57, 22.95, 17.1 , 13.8 ,\n",
       "       17.4 , 27.28])"
      ]
     },
     "execution_count": 126,
     "metadata": {},
     "output_type": "execute_result"
    }
   ],
   "source": [
    "car['Mileage'].unique()"
   ]
  },
  {
   "cell_type": "code",
   "execution_count": 127,
   "id": "2e35a82c-94d3-4ed0-bc8c-998edd59c6ba",
   "metadata": {},
   "outputs": [
    {
     "data": {
      "text/plain": [
       "array(['2393 CC', '1364 CC', '1598 CC', '1995 CC', '1248 CC', '998 CC',\n",
       "       '1498 CC', '1199 CC', '1197 CC', '2487 CC', '1968 CC', '1198 CC',\n",
       "       '1999 CC', '1591 CC', '796 CC', '2993 CC', '2477 CC', '1582 CC',\n",
       "       '1396 CC', '1461 CC', '1196 CC', '1798 CC', '5998 CC', '2755 CC',\n",
       "       '2143 CC', '999 CC', '1496 CC', '1595 CC', '2523 CC', '1186 CC',\n",
       "       '1998 CC', '799 CC', '1497 CC', '1956 CC', '1950 CC', '1462 CC',\n",
       "       '1997 CC', '1493 CC', '2489 CC', '2996 CC', '2987 CC', '2498 CC',\n",
       "       '1193 CC', '1047 CC', '1368 CC'], dtype=object)"
      ]
     },
     "execution_count": 127,
     "metadata": {},
     "output_type": "execute_result"
    }
   ],
   "source": [
    "car['Engine'].unique()"
   ]
  },
  {
   "cell_type": "code",
   "execution_count": 128,
   "id": "5bb48083-5d99-4c0f-87e0-28f39ef614c1",
   "metadata": {},
   "outputs": [],
   "source": [
    "car['Engine'] = car['Engine'].str.extract('(\\d+)').astype(float)"
   ]
  },
  {
   "cell_type": "code",
   "execution_count": 129,
   "id": "7a113231-053c-410e-8b7c-a5e285dc2d34",
   "metadata": {},
   "outputs": [
    {
     "data": {
      "text/plain": [
       "array([2393., 1364., 1598., 1995., 1248.,  998., 1498., 1199., 1197.,\n",
       "       2487., 1968., 1198., 1999., 1591.,  796., 2993., 2477., 1582.,\n",
       "       1396., 1461., 1196., 1798., 5998., 2755., 2143.,  999., 1496.,\n",
       "       1595., 2523., 1186., 1998.,  799., 1497., 1956., 1950., 1462.,\n",
       "       1997., 1493., 2489., 2996., 2987., 2498., 1193., 1047., 1368.])"
      ]
     },
     "execution_count": 129,
     "metadata": {},
     "output_type": "execute_result"
    }
   ],
   "source": [
    "car['Engine'].unique()"
   ]
  },
  {
   "cell_type": "code",
   "execution_count": 130,
   "id": "1393e121-d2fa-4ace-ad8a-a0093e659772",
   "metadata": {},
   "outputs": [],
   "source": [
    "car['Power'] = car['Power'].str.extract('(\\d+\\.?\\d*)').astype(float)"
   ]
  },
  {
   "cell_type": "code",
   "execution_count": 131,
   "id": "4ccb924f-747f-43e2-8e95-e3708c72cadc",
   "metadata": {},
   "outputs": [
    {
     "data": {
      "text/plain": [
       "array([147.8 ,  67.06, 103.52, 190.  ,  88.5 ,  67.04,  67.  , 108.62,\n",
       "        84.  ,  81.86, 175.67,  83.1 ,  98.6 , 147.51,  81.8 , 177.  ,\n",
       "        98.96, 121.3 , 108.5 ,  47.3 , 261.49,  86.8 ,  73.75, 175.56,\n",
       "       126.2 , 181.  ,  78.8 , 246.74,  88.76,  65.  ,  67.1 ,  64.1 ,\n",
       "        73.  , 138.03, 616.  , 174.5 , 187.74,  74.  , 182.46,  75.94,\n",
       "       170.  , 113.98, 120.69,  62.1 ,  73.97, 252.  ,  53.3 ,  88.7 ,\n",
       "       117.3 ,  77.  , 149.92, 201.15, 108.4 , 171.5 , 177.46, 191.34,\n",
       "        82.  , 103.  ,  91.72,  58.2 , 141.  ,  83.8 ,  70.  ,  75.  ,\n",
       "        98.63, 108.45,  93.7 ,  91.7 , 103.5 ,  53.64, 362.07, 254.79,\n",
       "       105.  , 192.  ,  69.  , 121.36, 160.  ])"
      ]
     },
     "execution_count": 131,
     "metadata": {},
     "output_type": "execute_result"
    }
   ],
   "source": [
    "car['Power'].unique()"
   ]
  },
  {
   "cell_type": "code",
   "execution_count": 132,
   "id": "8535112f-68ad-4b31-b33d-8734a8ae83bc",
   "metadata": {},
   "outputs": [
    {
     "data": {
      "text/html": [
       "<div>\n",
       "<style scoped>\n",
       "    .dataframe tbody tr th:only-of-type {\n",
       "        vertical-align: middle;\n",
       "    }\n",
       "\n",
       "    .dataframe tbody tr th {\n",
       "        vertical-align: top;\n",
       "    }\n",
       "\n",
       "    .dataframe thead th {\n",
       "        text-align: right;\n",
       "    }\n",
       "</style>\n",
       "<table border=\"1\" class=\"dataframe\">\n",
       "  <thead>\n",
       "    <tr style=\"text-align: right;\">\n",
       "      <th></th>\n",
       "      <th>Name</th>\n",
       "      <th>Year</th>\n",
       "      <th>Kilometers_Driven</th>\n",
       "      <th>Fuel_Type</th>\n",
       "      <th>Mileage</th>\n",
       "      <th>Engine</th>\n",
       "      <th>Power</th>\n",
       "      <th>Seats</th>\n",
       "      <th>New_Price</th>\n",
       "    </tr>\n",
       "  </thead>\n",
       "  <tbody>\n",
       "    <tr>\n",
       "      <th>0</th>\n",
       "      <td>Toyota Innova Crysta Touring Sport 2.4 MT</td>\n",
       "      <td>2017</td>\n",
       "      <td>34000</td>\n",
       "      <td>Diesel</td>\n",
       "      <td>13.68</td>\n",
       "      <td>2393.0</td>\n",
       "      <td>147.80</td>\n",
       "      <td>7.0</td>\n",
       "      <td>25.27 Lakh</td>\n",
       "    </tr>\n",
       "    <tr>\n",
       "      <th>1</th>\n",
       "      <td>Toyota Etios Cross 1.4L VD</td>\n",
       "      <td>2014</td>\n",
       "      <td>70000</td>\n",
       "      <td>Diesel</td>\n",
       "      <td>23.59</td>\n",
       "      <td>1364.0</td>\n",
       "      <td>67.06</td>\n",
       "      <td>5.0</td>\n",
       "      <td>9.27 Lakh</td>\n",
       "    </tr>\n",
       "    <tr>\n",
       "      <th>2</th>\n",
       "      <td>Skoda Rapid 1.6 MPI AT Style</td>\n",
       "      <td>2017</td>\n",
       "      <td>13500</td>\n",
       "      <td>Petrol</td>\n",
       "      <td>14.84</td>\n",
       "      <td>1598.0</td>\n",
       "      <td>103.52</td>\n",
       "      <td>5.0</td>\n",
       "      <td>14.95 Lakh</td>\n",
       "    </tr>\n",
       "    <tr>\n",
       "      <th>3</th>\n",
       "      <td>BMW 5 Series 520d Luxury Line</td>\n",
       "      <td>2012</td>\n",
       "      <td>66889</td>\n",
       "      <td>Diesel</td>\n",
       "      <td>22.48</td>\n",
       "      <td>1995.0</td>\n",
       "      <td>190.00</td>\n",
       "      <td>5.0</td>\n",
       "      <td>70.43 Lakh</td>\n",
       "    </tr>\n",
       "    <tr>\n",
       "      <th>4</th>\n",
       "      <td>Skoda Rapid 1.6 MPI Ambition</td>\n",
       "      <td>2018</td>\n",
       "      <td>4000</td>\n",
       "      <td>Petrol</td>\n",
       "      <td>15.41</td>\n",
       "      <td>1598.0</td>\n",
       "      <td>103.52</td>\n",
       "      <td>5.0</td>\n",
       "      <td>11.89 Lakh</td>\n",
       "    </tr>\n",
       "  </tbody>\n",
       "</table>\n",
       "</div>"
      ],
      "text/plain": [
       "                                        Name  Year  Kilometers_Driven  \\\n",
       "0  Toyota Innova Crysta Touring Sport 2.4 MT  2017              34000   \n",
       "1                 Toyota Etios Cross 1.4L VD  2014              70000   \n",
       "2               Skoda Rapid 1.6 MPI AT Style  2017              13500   \n",
       "3              BMW 5 Series 520d Luxury Line  2012              66889   \n",
       "4               Skoda Rapid 1.6 MPI Ambition  2018               4000   \n",
       "\n",
       "  Fuel_Type  Mileage  Engine   Power  Seats   New_Price  \n",
       "0    Diesel    13.68  2393.0  147.80    7.0  25.27 Lakh  \n",
       "1    Diesel    23.59  1364.0   67.06    5.0   9.27 Lakh  \n",
       "2    Petrol    14.84  1598.0  103.52    5.0  14.95 Lakh  \n",
       "3    Diesel    22.48  1995.0  190.00    5.0  70.43 Lakh  \n",
       "4    Petrol    15.41  1598.0  103.52    5.0  11.89 Lakh  "
      ]
     },
     "execution_count": 132,
     "metadata": {},
     "output_type": "execute_result"
    }
   ],
   "source": [
    "car.head()"
   ]
  },
  {
   "cell_type": "code",
   "execution_count": 133,
   "id": "ca113557-a003-4315-8181-1bc878638bfa",
   "metadata": {},
   "outputs": [
    {
     "name": "stdout",
     "output_type": "stream",
     "text": [
      "<class 'pandas.core.frame.DataFrame'>\n",
      "RangeIndex: 182 entries, 0 to 181\n",
      "Data columns (total 9 columns):\n",
      " #   Column             Non-Null Count  Dtype  \n",
      "---  ------             --------------  -----  \n",
      " 0   Name               182 non-null    object \n",
      " 1   Year               182 non-null    int64  \n",
      " 2   Kilometers_Driven  182 non-null    int64  \n",
      " 3   Fuel_Type          182 non-null    object \n",
      " 4   Mileage            182 non-null    float64\n",
      " 5   Engine             182 non-null    float64\n",
      " 6   Power              182 non-null    float64\n",
      " 7   Seats              182 non-null    float64\n",
      " 8   New_Price          182 non-null    object \n",
      "dtypes: float64(4), int64(2), object(3)\n",
      "memory usage: 12.9+ KB\n"
     ]
    }
   ],
   "source": [
    "car.info()"
   ]
  },
  {
   "cell_type": "code",
   "execution_count": 134,
   "id": "63dae55b-6b86-470b-9bf6-e56e75166808",
   "metadata": {},
   "outputs": [
    {
     "data": {
      "text/plain": [
       "array(['25.27 Lakh', '9.27 Lakh', '14.95 Lakh', '70.43 Lakh',\n",
       "       '11.89 Lakh', '11.02 Lakh', '8.94 Lakh', '5.78 Lakh', '9.4 Lakh',\n",
       "       '6.3 Lakh', '6.41 Lakh', '40.62 Lakh', '8.8 Lakh', '15.59 Lakh',\n",
       "       '44.8 Lakh', '5.74 Lakh', '7.43 Lakh', '52.96 Lakh', '4.59 Lakh',\n",
       "       '11.48 Lakh', '15.93 Lakh', '14.32 Lakh', '3.99 Lakh', '1.58 Cr',\n",
       "       '6.15 Lakh', '8.95 Lakh', '62.07 Lakh', '31.93 Lakh', '15.88 Lakh',\n",
       "       '43.65 Lakh', '8.23 Lakh', '8.57 Lakh', '7.19 Lakh', '56.98 Lakh',\n",
       "       '14.13 Lakh', '11.2 Lakh', '9.12 Lakh', '3.91 Lakh', '25.04 Lakh',\n",
       "       '8.92 Lakh', '5.01 Lakh', '19.01 Lakh', '9.45 Lakh', '3.75 Cr',\n",
       "       '35.16 Lakh', '6.78 Lakh', '6.24 Lakh', '55.61 Lakh', '9.42 Lakh',\n",
       "       '8.44 Lakh', '4.56 Lakh', '29.9 Lakh', '7.12 Lakh', '9.94 Lakh',\n",
       "       '6.44 Lakh', '7.67 Lakh', '16.82 Lakh', '15.57 Lakh', '9.51 Lakh',\n",
       "       '11.75 Lakh', '63.47 Lakh', '6.7 Lakh', '34.1 Lakh', '5.31 Lakh',\n",
       "       '15.24 Lakh', '36.5 Lakh', '37.03 Lakh', '10.86 Lakh', '8.85 Lakh',\n",
       "       '59.12 Lakh', '5.79 Lakh', '3.96 Lakh', '10.55 Lakh', '15.73 Lakh',\n",
       "       '8.91 Lakh', '4.7 Lakh', '27.56 Lakh', '17 Lakh', '4.75 Lakh',\n",
       "       '40.73 Lakh', '21.77 Lakh', '11.47 Lakh', '7.08 Lakh',\n",
       "       '77.92 Lakh', '14.86 Lakh', '26.14 Lakh', '32.41 Lakh',\n",
       "       '33.36 Lakh', '6.63 Lakh', '12.05 Lakh', '86.97 Lakh', '6.38 Lakh',\n",
       "       '5.89 Lakh', '6.55 Lakh', '7.79 Lakh', '7.87 Lakh', '18.32 Lakh',\n",
       "       '10.65 Lakh', '16.64 Lakh', '21 Lakh', '9.54 Lakh', '9.26 Lakh',\n",
       "       '6.33 Lakh', '35 Lakh', '4.66 Lakh', '23.29 Lakh', '3.95 Lakh',\n",
       "       '13.08 Lakh', '5.71 Lakh', '4.02 Lakh', '67.1 Lakh', '66.71 Lakh',\n",
       "       '13.33 Lakh', '4.5 Lakh', '15.11 Lakh', '49.12 Lakh', '10.51 Lakh',\n",
       "       '8.65 Lakh', '5.04 Lakh', '53.14 Lakh', '5.51 Lakh', '15.05 Lakh',\n",
       "       '11.91 Lakh', '8.6 Lakh', '15.55 Lakh', '10.36 Lakh', '20.69 Lakh',\n",
       "       '4.25 Lakh', '4.09 Lakh', '1.06 Cr', '92.01 Lakh', '10.94 Lakh',\n",
       "       '8.28 Lakh', '24.01 Lakh', '7.9 Lakh', '7.21 Lakh', '16.94 Lakh',\n",
       "       '10.13 Lakh', '7.96 Lakh', '6.54 Lakh', '5.27 Lakh', '5.56 Lakh',\n",
       "       '20.74 Lakh', '11.14 Lakh', '6.59 Lakh', '7.94 Lakh', '20.01 Lakh',\n",
       "       '44.59 Lakh', '32.62 Lakh', '11.59 Lakh', '6.46 Lakh',\n",
       "       '15.14 Lakh', '19.72 Lakh', '67.87 Lakh', '12.46 Lakh',\n",
       "       '9.11 Lakh', '12.68 Lakh', '5.53 Lakh', '7.06 Lakh', '8.79 Lakh',\n",
       "       '18.16 Lakh', '10.57 Lakh'], dtype=object)"
      ]
     },
     "execution_count": 134,
     "metadata": {},
     "output_type": "execute_result"
    }
   ],
   "source": [
    "car['New_Price'].unique()"
   ]
  },
  {
   "cell_type": "code",
   "execution_count": 135,
   "id": "2f02c8f0-b7c3-4cba-a4da-203589200245",
   "metadata": {},
   "outputs": [],
   "source": [
    "car = car[~car['New_Price'].str.contains('Cr', na=False)]"
   ]
  },
  {
   "cell_type": "code",
   "execution_count": 136,
   "id": "75088dd2-fd17-457c-aa90-2621f1b37b13",
   "metadata": {},
   "outputs": [],
   "source": [
    "car['New_Price'] = car['New_Price'].str.replace(' Lakh', '').astype(float) * 100000"
   ]
  },
  {
   "cell_type": "code",
   "execution_count": 137,
   "id": "007d4fd3-38c0-44c0-be30-57e1bebecf24",
   "metadata": {},
   "outputs": [
    {
     "data": {
      "text/plain": [
       "array([2527000.,  927000., 1495000., 7043000., 1189000., 1102000.,\n",
       "        894000.,  578000.,  940000.,  630000.,  641000., 4062000.,\n",
       "        880000., 1559000., 4480000.,  574000.,  743000., 5296000.,\n",
       "        459000., 1148000., 1593000., 1432000.,  399000.,  615000.,\n",
       "        895000., 6207000., 3193000., 1588000., 4365000.,  823000.,\n",
       "        857000.,  719000., 5698000., 1413000., 1120000.,  912000.,\n",
       "        391000., 2504000.,  892000.,  501000., 1901000.,  945000.,\n",
       "       3516000.,  678000.,  624000., 5561000.,  942000.,  844000.,\n",
       "        456000., 2990000.,  712000.,  994000.,  644000.,  767000.,\n",
       "       1682000., 1557000.,  951000., 1175000., 6347000.,  670000.,\n",
       "       3410000.,  531000., 1524000., 3650000., 3703000., 1086000.,\n",
       "        885000., 5912000.,  579000.,  396000., 1055000., 1573000.,\n",
       "        891000.,  470000., 2756000., 1700000.,  475000., 4073000.,\n",
       "       2177000., 1147000.,  708000., 7792000., 1486000., 2614000.,\n",
       "       3241000., 3336000.,  663000., 1205000., 8697000.,  638000.,\n",
       "        589000.,  655000.,  779000.,  787000., 1832000., 1065000.,\n",
       "       1664000., 2100000.,  954000.,  926000.,  633000., 3500000.,\n",
       "        466000., 2329000.,  395000., 1308000.,  571000.,  402000.,\n",
       "       6710000., 6671000., 1333000.,  450000., 1511000., 4912000.,\n",
       "       1051000.,  865000.,  504000., 5314000.,  551000., 1505000.,\n",
       "       1191000.,  860000., 1555000., 1036000., 2069000.,  425000.,\n",
       "        409000., 9201000., 1094000.,  828000., 2401000.,  790000.,\n",
       "        721000., 1694000., 1013000.,  796000.,  654000.,  527000.,\n",
       "        556000., 2074000., 1114000.,  659000.,  794000., 2001000.,\n",
       "       4459000., 3262000., 1159000.,  646000., 1514000., 1972000.,\n",
       "       6787000., 1246000.,  911000., 1268000.,  553000.,  706000.,\n",
       "        879000., 1816000., 1057000.])"
      ]
     },
     "execution_count": 137,
     "metadata": {},
     "output_type": "execute_result"
    }
   ],
   "source": [
    "car['New_Price'].unique()"
   ]
  },
  {
   "cell_type": "code",
   "execution_count": 138,
   "id": "6cc32af0-2b64-425a-b801-0384f16d5f93",
   "metadata": {},
   "outputs": [
    {
     "name": "stdout",
     "output_type": "stream",
     "text": [
      "<class 'pandas.core.frame.DataFrame'>\n",
      "Index: 179 entries, 0 to 181\n",
      "Data columns (total 9 columns):\n",
      " #   Column             Non-Null Count  Dtype  \n",
      "---  ------             --------------  -----  \n",
      " 0   Name               179 non-null    object \n",
      " 1   Year               179 non-null    int64  \n",
      " 2   Kilometers_Driven  179 non-null    int64  \n",
      " 3   Fuel_Type          179 non-null    object \n",
      " 4   Mileage            179 non-null    float64\n",
      " 5   Engine             179 non-null    float64\n",
      " 6   Power              179 non-null    float64\n",
      " 7   Seats              179 non-null    float64\n",
      " 8   New_Price          179 non-null    float64\n",
      "dtypes: float64(5), int64(2), object(2)\n",
      "memory usage: 14.0+ KB\n"
     ]
    }
   ],
   "source": [
    "car.info()"
   ]
  },
  {
   "cell_type": "code",
   "execution_count": 139,
   "id": "faa657a0-21d3-4eb0-8931-c950085e8976",
   "metadata": {},
   "outputs": [
    {
     "data": {
      "text/html": [
       "<div>\n",
       "<style scoped>\n",
       "    .dataframe tbody tr th:only-of-type {\n",
       "        vertical-align: middle;\n",
       "    }\n",
       "\n",
       "    .dataframe tbody tr th {\n",
       "        vertical-align: top;\n",
       "    }\n",
       "\n",
       "    .dataframe thead th {\n",
       "        text-align: right;\n",
       "    }\n",
       "</style>\n",
       "<table border=\"1\" class=\"dataframe\">\n",
       "  <thead>\n",
       "    <tr style=\"text-align: right;\">\n",
       "      <th></th>\n",
       "      <th>Name</th>\n",
       "      <th>Year</th>\n",
       "      <th>Kilometers_Driven</th>\n",
       "      <th>Fuel_Type</th>\n",
       "      <th>Mileage</th>\n",
       "      <th>Engine</th>\n",
       "      <th>Power</th>\n",
       "      <th>Seats</th>\n",
       "      <th>New_Price</th>\n",
       "    </tr>\n",
       "  </thead>\n",
       "  <tbody>\n",
       "    <tr>\n",
       "      <th>0</th>\n",
       "      <td>Toyota Innova Crysta Touring Sport 2.4 MT</td>\n",
       "      <td>2017</td>\n",
       "      <td>34000</td>\n",
       "      <td>Diesel</td>\n",
       "      <td>13.68</td>\n",
       "      <td>2393.0</td>\n",
       "      <td>147.80</td>\n",
       "      <td>7.0</td>\n",
       "      <td>2527000.0</td>\n",
       "    </tr>\n",
       "    <tr>\n",
       "      <th>1</th>\n",
       "      <td>Toyota Etios Cross 1.4L VD</td>\n",
       "      <td>2014</td>\n",
       "      <td>70000</td>\n",
       "      <td>Diesel</td>\n",
       "      <td>23.59</td>\n",
       "      <td>1364.0</td>\n",
       "      <td>67.06</td>\n",
       "      <td>5.0</td>\n",
       "      <td>927000.0</td>\n",
       "    </tr>\n",
       "    <tr>\n",
       "      <th>2</th>\n",
       "      <td>Skoda Rapid 1.6 MPI AT Style</td>\n",
       "      <td>2017</td>\n",
       "      <td>13500</td>\n",
       "      <td>Petrol</td>\n",
       "      <td>14.84</td>\n",
       "      <td>1598.0</td>\n",
       "      <td>103.52</td>\n",
       "      <td>5.0</td>\n",
       "      <td>1495000.0</td>\n",
       "    </tr>\n",
       "    <tr>\n",
       "      <th>3</th>\n",
       "      <td>BMW 5 Series 520d Luxury Line</td>\n",
       "      <td>2012</td>\n",
       "      <td>66889</td>\n",
       "      <td>Diesel</td>\n",
       "      <td>22.48</td>\n",
       "      <td>1995.0</td>\n",
       "      <td>190.00</td>\n",
       "      <td>5.0</td>\n",
       "      <td>7043000.0</td>\n",
       "    </tr>\n",
       "    <tr>\n",
       "      <th>4</th>\n",
       "      <td>Skoda Rapid 1.6 MPI Ambition</td>\n",
       "      <td>2018</td>\n",
       "      <td>4000</td>\n",
       "      <td>Petrol</td>\n",
       "      <td>15.41</td>\n",
       "      <td>1598.0</td>\n",
       "      <td>103.52</td>\n",
       "      <td>5.0</td>\n",
       "      <td>1189000.0</td>\n",
       "    </tr>\n",
       "  </tbody>\n",
       "</table>\n",
       "</div>"
      ],
      "text/plain": [
       "                                        Name  Year  Kilometers_Driven  \\\n",
       "0  Toyota Innova Crysta Touring Sport 2.4 MT  2017              34000   \n",
       "1                 Toyota Etios Cross 1.4L VD  2014              70000   \n",
       "2               Skoda Rapid 1.6 MPI AT Style  2017              13500   \n",
       "3              BMW 5 Series 520d Luxury Line  2012              66889   \n",
       "4               Skoda Rapid 1.6 MPI Ambition  2018               4000   \n",
       "\n",
       "  Fuel_Type  Mileage  Engine   Power  Seats  New_Price  \n",
       "0    Diesel    13.68  2393.0  147.80    7.0  2527000.0  \n",
       "1    Diesel    23.59  1364.0   67.06    5.0   927000.0  \n",
       "2    Petrol    14.84  1598.0  103.52    5.0  1495000.0  \n",
       "3    Diesel    22.48  1995.0  190.00    5.0  7043000.0  \n",
       "4    Petrol    15.41  1598.0  103.52    5.0  1189000.0  "
      ]
     },
     "execution_count": 139,
     "metadata": {},
     "output_type": "execute_result"
    }
   ],
   "source": [
    "car.head()"
   ]
  },
  {
   "cell_type": "code",
   "execution_count": 140,
   "id": "e6f597d4-c860-4608-acf8-c1f211041b84",
   "metadata": {},
   "outputs": [
    {
     "data": {
      "text/html": [
       "<div>\n",
       "<style scoped>\n",
       "    .dataframe tbody tr th:only-of-type {\n",
       "        vertical-align: middle;\n",
       "    }\n",
       "\n",
       "    .dataframe tbody tr th {\n",
       "        vertical-align: top;\n",
       "    }\n",
       "\n",
       "    .dataframe thead th {\n",
       "        text-align: right;\n",
       "    }\n",
       "</style>\n",
       "<table border=\"1\" class=\"dataframe\">\n",
       "  <thead>\n",
       "    <tr style=\"text-align: right;\">\n",
       "      <th></th>\n",
       "      <th>Year</th>\n",
       "      <th>Kilometers_Driven</th>\n",
       "      <th>Mileage</th>\n",
       "      <th>Engine</th>\n",
       "      <th>Power</th>\n",
       "      <th>Seats</th>\n",
       "      <th>New_Price</th>\n",
       "    </tr>\n",
       "  </thead>\n",
       "  <tbody>\n",
       "    <tr>\n",
       "      <th>count</th>\n",
       "      <td>179.000000</td>\n",
       "      <td>179.000000</td>\n",
       "      <td>179.000000</td>\n",
       "      <td>179.000000</td>\n",
       "      <td>179.000000</td>\n",
       "      <td>179.000000</td>\n",
       "      <td>1.790000e+02</td>\n",
       "    </tr>\n",
       "    <tr>\n",
       "      <th>mean</th>\n",
       "      <td>2015.966480</td>\n",
       "      <td>39055.351955</td>\n",
       "      <td>19.863017</td>\n",
       "      <td>1535.290503</td>\n",
       "      <td>110.108827</td>\n",
       "      <td>5.290503</td>\n",
       "      <td>1.822922e+06</td>\n",
       "    </tr>\n",
       "    <tr>\n",
       "      <th>std</th>\n",
       "      <td>2.095741</td>\n",
       "      <td>27037.981206</td>\n",
       "      <td>4.070361</td>\n",
       "      <td>488.152357</td>\n",
       "      <td>46.222787</td>\n",
       "      <td>0.760300</td>\n",
       "      <td>1.792685e+06</td>\n",
       "    </tr>\n",
       "    <tr>\n",
       "      <th>min</th>\n",
       "      <td>2010.000000</td>\n",
       "      <td>1000.000000</td>\n",
       "      <td>10.800000</td>\n",
       "      <td>796.000000</td>\n",
       "      <td>47.300000</td>\n",
       "      <td>4.000000</td>\n",
       "      <td>3.910000e+05</td>\n",
       "    </tr>\n",
       "    <tr>\n",
       "      <th>25%</th>\n",
       "      <td>2015.000000</td>\n",
       "      <td>19982.000000</td>\n",
       "      <td>17.000000</td>\n",
       "      <td>1197.000000</td>\n",
       "      <td>74.000000</td>\n",
       "      <td>5.000000</td>\n",
       "      <td>7.070000e+05</td>\n",
       "    </tr>\n",
       "    <tr>\n",
       "      <th>50%</th>\n",
       "      <td>2017.000000</td>\n",
       "      <td>32835.000000</td>\n",
       "      <td>20.500000</td>\n",
       "      <td>1461.000000</td>\n",
       "      <td>88.700000</td>\n",
       "      <td>5.000000</td>\n",
       "      <td>1.086000e+06</td>\n",
       "    </tr>\n",
       "    <tr>\n",
       "      <th>75%</th>\n",
       "      <td>2017.000000</td>\n",
       "      <td>57434.500000</td>\n",
       "      <td>22.620000</td>\n",
       "      <td>1956.000000</td>\n",
       "      <td>139.515000</td>\n",
       "      <td>5.000000</td>\n",
       "      <td>2.071500e+06</td>\n",
       "    </tr>\n",
       "    <tr>\n",
       "      <th>max</th>\n",
       "      <td>2019.000000</td>\n",
       "      <td>160000.000000</td>\n",
       "      <td>32.260000</td>\n",
       "      <td>2987.000000</td>\n",
       "      <td>254.790000</td>\n",
       "      <td>8.000000</td>\n",
       "      <td>9.201000e+06</td>\n",
       "    </tr>\n",
       "  </tbody>\n",
       "</table>\n",
       "</div>"
      ],
      "text/plain": [
       "              Year  Kilometers_Driven     Mileage       Engine       Power  \\\n",
       "count   179.000000         179.000000  179.000000   179.000000  179.000000   \n",
       "mean   2015.966480       39055.351955   19.863017  1535.290503  110.108827   \n",
       "std       2.095741       27037.981206    4.070361   488.152357   46.222787   \n",
       "min    2010.000000        1000.000000   10.800000   796.000000   47.300000   \n",
       "25%    2015.000000       19982.000000   17.000000  1197.000000   74.000000   \n",
       "50%    2017.000000       32835.000000   20.500000  1461.000000   88.700000   \n",
       "75%    2017.000000       57434.500000   22.620000  1956.000000  139.515000   \n",
       "max    2019.000000      160000.000000   32.260000  2987.000000  254.790000   \n",
       "\n",
       "            Seats     New_Price  \n",
       "count  179.000000  1.790000e+02  \n",
       "mean     5.290503  1.822922e+06  \n",
       "std      0.760300  1.792685e+06  \n",
       "min      4.000000  3.910000e+05  \n",
       "25%      5.000000  7.070000e+05  \n",
       "50%      5.000000  1.086000e+06  \n",
       "75%      5.000000  2.071500e+06  \n",
       "max      8.000000  9.201000e+06  "
      ]
     },
     "execution_count": 140,
     "metadata": {},
     "output_type": "execute_result"
    }
   ],
   "source": [
    "car.describe()"
   ]
  },
  {
   "cell_type": "code",
   "execution_count": 141,
   "id": "f28521be-a0ed-4d40-ad88-a0ad69a1107d",
   "metadata": {},
   "outputs": [
    {
     "name": "stdout",
     "output_type": "stream",
     "text": [
      "<class 'pandas.core.frame.DataFrame'>\n",
      "Index: 179 entries, 0 to 181\n",
      "Data columns (total 9 columns):\n",
      " #   Column             Non-Null Count  Dtype  \n",
      "---  ------             --------------  -----  \n",
      " 0   Name               179 non-null    object \n",
      " 1   Year               179 non-null    int64  \n",
      " 2   Kilometers_Driven  179 non-null    int64  \n",
      " 3   Fuel_Type          179 non-null    object \n",
      " 4   Mileage            179 non-null    float64\n",
      " 5   Engine             179 non-null    float64\n",
      " 6   Power              179 non-null    float64\n",
      " 7   Seats              179 non-null    float64\n",
      " 8   New_Price          179 non-null    float64\n",
      "dtypes: float64(5), int64(2), object(2)\n",
      "memory usage: 14.0+ KB\n"
     ]
    }
   ],
   "source": [
    "car.info()"
   ]
  },
  {
   "cell_type": "code",
   "execution_count": 142,
   "id": "a37346b4-22e9-4936-9396-f666a8ffc508",
   "metadata": {},
   "outputs": [
    {
     "data": {
      "text/plain": [
       "(179, 9)"
      ]
     },
     "execution_count": 142,
     "metadata": {},
     "output_type": "execute_result"
    }
   ],
   "source": [
    "car.shape"
   ]
  },
  {
   "cell_type": "code",
   "execution_count": 143,
   "id": "6282b0c2-c739-4326-948e-7b20a396201b",
   "metadata": {},
   "outputs": [],
   "source": [
    "car.to_csv('Clining_Data.csv')"
   ]
  },
  {
   "cell_type": "markdown",
   "id": "7e4cff5e-9a71-497e-8bf8-1c66c74e9664",
   "metadata": {},
   "source": [
    "# MODEL CREATION"
   ]
  },
  {
   "cell_type": "code",
   "execution_count": 144,
   "id": "4e7a4400-1ccf-4f59-87e5-f6d13c67f56a",
   "metadata": {},
   "outputs": [],
   "source": [
    "x = car.drop(columns = 'New_Price')\n",
    "y = car['New_Price']"
   ]
  },
  {
   "cell_type": "code",
   "execution_count": 145,
   "id": "5c737153-b888-4cbb-881b-bb0775a532d7",
   "metadata": {},
   "outputs": [
    {
     "data": {
      "text/html": [
       "<div>\n",
       "<style scoped>\n",
       "    .dataframe tbody tr th:only-of-type {\n",
       "        vertical-align: middle;\n",
       "    }\n",
       "\n",
       "    .dataframe tbody tr th {\n",
       "        vertical-align: top;\n",
       "    }\n",
       "\n",
       "    .dataframe thead th {\n",
       "        text-align: right;\n",
       "    }\n",
       "</style>\n",
       "<table border=\"1\" class=\"dataframe\">\n",
       "  <thead>\n",
       "    <tr style=\"text-align: right;\">\n",
       "      <th></th>\n",
       "      <th>Name</th>\n",
       "      <th>Year</th>\n",
       "      <th>Kilometers_Driven</th>\n",
       "      <th>Fuel_Type</th>\n",
       "      <th>Mileage</th>\n",
       "      <th>Engine</th>\n",
       "      <th>Power</th>\n",
       "      <th>Seats</th>\n",
       "    </tr>\n",
       "  </thead>\n",
       "  <tbody>\n",
       "    <tr>\n",
       "      <th>0</th>\n",
       "      <td>Toyota Innova Crysta Touring Sport 2.4 MT</td>\n",
       "      <td>2017</td>\n",
       "      <td>34000</td>\n",
       "      <td>Diesel</td>\n",
       "      <td>13.68</td>\n",
       "      <td>2393.0</td>\n",
       "      <td>147.80</td>\n",
       "      <td>7.0</td>\n",
       "    </tr>\n",
       "    <tr>\n",
       "      <th>1</th>\n",
       "      <td>Toyota Etios Cross 1.4L VD</td>\n",
       "      <td>2014</td>\n",
       "      <td>70000</td>\n",
       "      <td>Diesel</td>\n",
       "      <td>23.59</td>\n",
       "      <td>1364.0</td>\n",
       "      <td>67.06</td>\n",
       "      <td>5.0</td>\n",
       "    </tr>\n",
       "    <tr>\n",
       "      <th>2</th>\n",
       "      <td>Skoda Rapid 1.6 MPI AT Style</td>\n",
       "      <td>2017</td>\n",
       "      <td>13500</td>\n",
       "      <td>Petrol</td>\n",
       "      <td>14.84</td>\n",
       "      <td>1598.0</td>\n",
       "      <td>103.52</td>\n",
       "      <td>5.0</td>\n",
       "    </tr>\n",
       "    <tr>\n",
       "      <th>3</th>\n",
       "      <td>BMW 5 Series 520d Luxury Line</td>\n",
       "      <td>2012</td>\n",
       "      <td>66889</td>\n",
       "      <td>Diesel</td>\n",
       "      <td>22.48</td>\n",
       "      <td>1995.0</td>\n",
       "      <td>190.00</td>\n",
       "      <td>5.0</td>\n",
       "    </tr>\n",
       "    <tr>\n",
       "      <th>4</th>\n",
       "      <td>Skoda Rapid 1.6 MPI Ambition</td>\n",
       "      <td>2018</td>\n",
       "      <td>4000</td>\n",
       "      <td>Petrol</td>\n",
       "      <td>15.41</td>\n",
       "      <td>1598.0</td>\n",
       "      <td>103.52</td>\n",
       "      <td>5.0</td>\n",
       "    </tr>\n",
       "    <tr>\n",
       "      <th>...</th>\n",
       "      <td>...</td>\n",
       "      <td>...</td>\n",
       "      <td>...</td>\n",
       "      <td>...</td>\n",
       "      <td>...</td>\n",
       "      <td>...</td>\n",
       "      <td>...</td>\n",
       "      <td>...</td>\n",
       "    </tr>\n",
       "    <tr>\n",
       "      <th>177</th>\n",
       "      <td>Tata Tiago 1.05 Revotorq XT Option</td>\n",
       "      <td>2016</td>\n",
       "      <td>41413</td>\n",
       "      <td>Diesel</td>\n",
       "      <td>27.28</td>\n",
       "      <td>1047.0</td>\n",
       "      <td>69.00</td>\n",
       "      <td>5.0</td>\n",
       "    </tr>\n",
       "    <tr>\n",
       "      <th>178</th>\n",
       "      <td>Ford EcoSport 1.5 Petrol Ambiente</td>\n",
       "      <td>2017</td>\n",
       "      <td>39015</td>\n",
       "      <td>Petrol</td>\n",
       "      <td>17.00</td>\n",
       "      <td>1497.0</td>\n",
       "      <td>121.36</td>\n",
       "      <td>5.0</td>\n",
       "    </tr>\n",
       "    <tr>\n",
       "      <th>179</th>\n",
       "      <td>Jeep Compass 1.4 Sport</td>\n",
       "      <td>2018</td>\n",
       "      <td>6000</td>\n",
       "      <td>Petrol</td>\n",
       "      <td>16.00</td>\n",
       "      <td>1368.0</td>\n",
       "      <td>160.00</td>\n",
       "      <td>5.0</td>\n",
       "    </tr>\n",
       "    <tr>\n",
       "      <th>180</th>\n",
       "      <td>Maruti Vitara Brezza ZDi</td>\n",
       "      <td>2017</td>\n",
       "      <td>21380</td>\n",
       "      <td>Diesel</td>\n",
       "      <td>24.30</td>\n",
       "      <td>1248.0</td>\n",
       "      <td>88.50</td>\n",
       "      <td>5.0</td>\n",
       "    </tr>\n",
       "    <tr>\n",
       "      <th>181</th>\n",
       "      <td>Hyundai Elite i20 Magna Plus</td>\n",
       "      <td>2018</td>\n",
       "      <td>23955</td>\n",
       "      <td>Petrol</td>\n",
       "      <td>18.60</td>\n",
       "      <td>1197.0</td>\n",
       "      <td>81.86</td>\n",
       "      <td>5.0</td>\n",
       "    </tr>\n",
       "  </tbody>\n",
       "</table>\n",
       "<p>179 rows × 8 columns</p>\n",
       "</div>"
      ],
      "text/plain": [
       "                                          Name  Year  Kilometers_Driven  \\\n",
       "0    Toyota Innova Crysta Touring Sport 2.4 MT  2017              34000   \n",
       "1                   Toyota Etios Cross 1.4L VD  2014              70000   \n",
       "2                 Skoda Rapid 1.6 MPI AT Style  2017              13500   \n",
       "3                BMW 5 Series 520d Luxury Line  2012              66889   \n",
       "4                 Skoda Rapid 1.6 MPI Ambition  2018               4000   \n",
       "..                                         ...   ...                ...   \n",
       "177         Tata Tiago 1.05 Revotorq XT Option  2016              41413   \n",
       "178          Ford EcoSport 1.5 Petrol Ambiente  2017              39015   \n",
       "179                     Jeep Compass 1.4 Sport  2018               6000   \n",
       "180                   Maruti Vitara Brezza ZDi  2017              21380   \n",
       "181               Hyundai Elite i20 Magna Plus  2018              23955   \n",
       "\n",
       "    Fuel_Type  Mileage  Engine   Power  Seats  \n",
       "0      Diesel    13.68  2393.0  147.80    7.0  \n",
       "1      Diesel    23.59  1364.0   67.06    5.0  \n",
       "2      Petrol    14.84  1598.0  103.52    5.0  \n",
       "3      Diesel    22.48  1995.0  190.00    5.0  \n",
       "4      Petrol    15.41  1598.0  103.52    5.0  \n",
       "..        ...      ...     ...     ...    ...  \n",
       "177    Diesel    27.28  1047.0   69.00    5.0  \n",
       "178    Petrol    17.00  1497.0  121.36    5.0  \n",
       "179    Petrol    16.00  1368.0  160.00    5.0  \n",
       "180    Diesel    24.30  1248.0   88.50    5.0  \n",
       "181    Petrol    18.60  1197.0   81.86    5.0  \n",
       "\n",
       "[179 rows x 8 columns]"
      ]
     },
     "execution_count": 145,
     "metadata": {},
     "output_type": "execute_result"
    }
   ],
   "source": [
    "x"
   ]
  },
  {
   "cell_type": "code",
   "execution_count": 146,
   "id": "8b026486-50fa-496a-baf2-a40efacb52eb",
   "metadata": {},
   "outputs": [
    {
     "data": {
      "text/plain": [
       "0      2527000.0\n",
       "1       927000.0\n",
       "2      1495000.0\n",
       "3      7043000.0\n",
       "4      1189000.0\n",
       "         ...    \n",
       "177     706000.0\n",
       "178     879000.0\n",
       "179    1816000.0\n",
       "180    1057000.0\n",
       "181     708000.0\n",
       "Name: New_Price, Length: 179, dtype: float64"
      ]
     },
     "execution_count": 146,
     "metadata": {},
     "output_type": "execute_result"
    }
   ],
   "source": [
    "y"
   ]
  },
  {
   "cell_type": "code",
   "execution_count": 147,
   "id": "0ff5a56d-d7d6-439b-aa12-2999089b44b8",
   "metadata": {},
   "outputs": [],
   "source": [
    "from sklearn.model_selection import train_test_split\n",
    "x_train, x_test, y_train, y_test=train_test_split(x,y, test_size=0.2)"
   ]
  },
  {
   "cell_type": "code",
   "execution_count": 148,
   "id": "b42b6aad-9dd3-4c3d-854c-a3aea41b8cac",
   "metadata": {},
   "outputs": [],
   "source": [
    "from sklearn.linear_model import LinearRegression\n",
    "from sklearn.metrics import r2_score\n",
    "from sklearn.preprocessing import OneHotEncoder\n",
    "from sklearn.compose import make_column_transformer\n",
    "from sklearn.pipeline import make_pipeline"
   ]
  },
  {
   "cell_type": "code",
   "execution_count": 149,
   "id": "7e6028d2-a452-406e-83f2-7779986912b9",
   "metadata": {},
   "outputs": [
    {
     "data": {
      "text/html": [
       "<style>#sk-container-id-5 {color: black;}#sk-container-id-5 pre{padding: 0;}#sk-container-id-5 div.sk-toggleable {background-color: white;}#sk-container-id-5 label.sk-toggleable__label {cursor: pointer;display: block;width: 100%;margin-bottom: 0;padding: 0.3em;box-sizing: border-box;text-align: center;}#sk-container-id-5 label.sk-toggleable__label-arrow:before {content: \"▸\";float: left;margin-right: 0.25em;color: #696969;}#sk-container-id-5 label.sk-toggleable__label-arrow:hover:before {color: black;}#sk-container-id-5 div.sk-estimator:hover label.sk-toggleable__label-arrow:before {color: black;}#sk-container-id-5 div.sk-toggleable__content {max-height: 0;max-width: 0;overflow: hidden;text-align: left;background-color: #f0f8ff;}#sk-container-id-5 div.sk-toggleable__content pre {margin: 0.2em;color: black;border-radius: 0.25em;background-color: #f0f8ff;}#sk-container-id-5 input.sk-toggleable__control:checked~div.sk-toggleable__content {max-height: 200px;max-width: 100%;overflow: auto;}#sk-container-id-5 input.sk-toggleable__control:checked~label.sk-toggleable__label-arrow:before {content: \"▾\";}#sk-container-id-5 div.sk-estimator input.sk-toggleable__control:checked~label.sk-toggleable__label {background-color: #d4ebff;}#sk-container-id-5 div.sk-label input.sk-toggleable__control:checked~label.sk-toggleable__label {background-color: #d4ebff;}#sk-container-id-5 input.sk-hidden--visually {border: 0;clip: rect(1px 1px 1px 1px);clip: rect(1px, 1px, 1px, 1px);height: 1px;margin: -1px;overflow: hidden;padding: 0;position: absolute;width: 1px;}#sk-container-id-5 div.sk-estimator {font-family: monospace;background-color: #f0f8ff;border: 1px dotted black;border-radius: 0.25em;box-sizing: border-box;margin-bottom: 0.5em;}#sk-container-id-5 div.sk-estimator:hover {background-color: #d4ebff;}#sk-container-id-5 div.sk-parallel-item::after {content: \"\";width: 100%;border-bottom: 1px solid gray;flex-grow: 1;}#sk-container-id-5 div.sk-label:hover label.sk-toggleable__label {background-color: #d4ebff;}#sk-container-id-5 div.sk-serial::before {content: \"\";position: absolute;border-left: 1px solid gray;box-sizing: border-box;top: 0;bottom: 0;left: 50%;z-index: 0;}#sk-container-id-5 div.sk-serial {display: flex;flex-direction: column;align-items: center;background-color: white;padding-right: 0.2em;padding-left: 0.2em;position: relative;}#sk-container-id-5 div.sk-item {position: relative;z-index: 1;}#sk-container-id-5 div.sk-parallel {display: flex;align-items: stretch;justify-content: center;background-color: white;position: relative;}#sk-container-id-5 div.sk-item::before, #sk-container-id-5 div.sk-parallel-item::before {content: \"\";position: absolute;border-left: 1px solid gray;box-sizing: border-box;top: 0;bottom: 0;left: 50%;z-index: -1;}#sk-container-id-5 div.sk-parallel-item {display: flex;flex-direction: column;z-index: 1;position: relative;background-color: white;}#sk-container-id-5 div.sk-parallel-item:first-child::after {align-self: flex-end;width: 50%;}#sk-container-id-5 div.sk-parallel-item:last-child::after {align-self: flex-start;width: 50%;}#sk-container-id-5 div.sk-parallel-item:only-child::after {width: 0;}#sk-container-id-5 div.sk-dashed-wrapped {border: 1px dashed gray;margin: 0 0.4em 0.5em 0.4em;box-sizing: border-box;padding-bottom: 0.4em;background-color: white;}#sk-container-id-5 div.sk-label label {font-family: monospace;font-weight: bold;display: inline-block;line-height: 1.2em;}#sk-container-id-5 div.sk-label-container {text-align: center;}#sk-container-id-5 div.sk-container {/* jupyter's `normalize.less` sets `[hidden] { display: none; }` but bootstrap.min.css set `[hidden] { display: none !important; }` so we also need the `!important` here to be able to override the default hidden behavior on the sphinx rendered scikit-learn.org. See: https://github.com/scikit-learn/scikit-learn/issues/21755 */display: inline-block !important;position: relative;}#sk-container-id-5 div.sk-text-repr-fallback {display: none;}</style><div id=\"sk-container-id-5\" class=\"sk-top-container\"><div class=\"sk-text-repr-fallback\"><pre>OneHotEncoder()</pre><b>In a Jupyter environment, please rerun this cell to show the HTML representation or trust the notebook. <br />On GitHub, the HTML representation is unable to render, please try loading this page with nbviewer.org.</b></div><div class=\"sk-container\" hidden><div class=\"sk-item\"><div class=\"sk-estimator sk-toggleable\"><input class=\"sk-toggleable__control sk-hidden--visually\" id=\"sk-estimator-id-17\" type=\"checkbox\" checked><label for=\"sk-estimator-id-17\" class=\"sk-toggleable__label sk-toggleable__label-arrow\">OneHotEncoder</label><div class=\"sk-toggleable__content\"><pre>OneHotEncoder()</pre></div></div></div></div></div>"
      ],
      "text/plain": [
       "OneHotEncoder()"
      ]
     },
     "execution_count": 149,
     "metadata": {},
     "output_type": "execute_result"
    }
   ],
   "source": [
    "ohe = OneHotEncoder()\n",
    "ohe.fit(x[['Name','Fuel_Type']])"
   ]
  },
  {
   "cell_type": "code",
   "execution_count": 150,
   "id": "d90f4829-7e4d-4481-aabe-3ad0c3144461",
   "metadata": {},
   "outputs": [],
   "source": [
    "column_trans = make_column_transformer((OneHotEncoder(categories=ohe.categories_),['Name','Fuel_Type']), remainder='passthrough')"
   ]
  },
  {
   "cell_type": "code",
   "execution_count": 151,
   "id": "707977f4-9470-492a-9fc3-892ac2c4343a",
   "metadata": {},
   "outputs": [],
   "source": [
    "lr=LinearRegression()"
   ]
  },
  {
   "cell_type": "code",
   "execution_count": 152,
   "id": "415fbf65-1a9e-45b9-809e-49f5494d3474",
   "metadata": {},
   "outputs": [],
   "source": [
    "pipe=make_pipeline(column_trans,lr)"
   ]
  },
  {
   "cell_type": "code",
   "execution_count": 153,
   "id": "d8e48996-2bff-4129-9d48-bd12447665e8",
   "metadata": {},
   "outputs": [
    {
     "data": {
      "text/html": [
       "<style>#sk-container-id-6 {color: black;}#sk-container-id-6 pre{padding: 0;}#sk-container-id-6 div.sk-toggleable {background-color: white;}#sk-container-id-6 label.sk-toggleable__label {cursor: pointer;display: block;width: 100%;margin-bottom: 0;padding: 0.3em;box-sizing: border-box;text-align: center;}#sk-container-id-6 label.sk-toggleable__label-arrow:before {content: \"▸\";float: left;margin-right: 0.25em;color: #696969;}#sk-container-id-6 label.sk-toggleable__label-arrow:hover:before {color: black;}#sk-container-id-6 div.sk-estimator:hover label.sk-toggleable__label-arrow:before {color: black;}#sk-container-id-6 div.sk-toggleable__content {max-height: 0;max-width: 0;overflow: hidden;text-align: left;background-color: #f0f8ff;}#sk-container-id-6 div.sk-toggleable__content pre {margin: 0.2em;color: black;border-radius: 0.25em;background-color: #f0f8ff;}#sk-container-id-6 input.sk-toggleable__control:checked~div.sk-toggleable__content {max-height: 200px;max-width: 100%;overflow: auto;}#sk-container-id-6 input.sk-toggleable__control:checked~label.sk-toggleable__label-arrow:before {content: \"▾\";}#sk-container-id-6 div.sk-estimator input.sk-toggleable__control:checked~label.sk-toggleable__label {background-color: #d4ebff;}#sk-container-id-6 div.sk-label input.sk-toggleable__control:checked~label.sk-toggleable__label {background-color: #d4ebff;}#sk-container-id-6 input.sk-hidden--visually {border: 0;clip: rect(1px 1px 1px 1px);clip: rect(1px, 1px, 1px, 1px);height: 1px;margin: -1px;overflow: hidden;padding: 0;position: absolute;width: 1px;}#sk-container-id-6 div.sk-estimator {font-family: monospace;background-color: #f0f8ff;border: 1px dotted black;border-radius: 0.25em;box-sizing: border-box;margin-bottom: 0.5em;}#sk-container-id-6 div.sk-estimator:hover {background-color: #d4ebff;}#sk-container-id-6 div.sk-parallel-item::after {content: \"\";width: 100%;border-bottom: 1px solid gray;flex-grow: 1;}#sk-container-id-6 div.sk-label:hover label.sk-toggleable__label {background-color: #d4ebff;}#sk-container-id-6 div.sk-serial::before {content: \"\";position: absolute;border-left: 1px solid gray;box-sizing: border-box;top: 0;bottom: 0;left: 50%;z-index: 0;}#sk-container-id-6 div.sk-serial {display: flex;flex-direction: column;align-items: center;background-color: white;padding-right: 0.2em;padding-left: 0.2em;position: relative;}#sk-container-id-6 div.sk-item {position: relative;z-index: 1;}#sk-container-id-6 div.sk-parallel {display: flex;align-items: stretch;justify-content: center;background-color: white;position: relative;}#sk-container-id-6 div.sk-item::before, #sk-container-id-6 div.sk-parallel-item::before {content: \"\";position: absolute;border-left: 1px solid gray;box-sizing: border-box;top: 0;bottom: 0;left: 50%;z-index: -1;}#sk-container-id-6 div.sk-parallel-item {display: flex;flex-direction: column;z-index: 1;position: relative;background-color: white;}#sk-container-id-6 div.sk-parallel-item:first-child::after {align-self: flex-end;width: 50%;}#sk-container-id-6 div.sk-parallel-item:last-child::after {align-self: flex-start;width: 50%;}#sk-container-id-6 div.sk-parallel-item:only-child::after {width: 0;}#sk-container-id-6 div.sk-dashed-wrapped {border: 1px dashed gray;margin: 0 0.4em 0.5em 0.4em;box-sizing: border-box;padding-bottom: 0.4em;background-color: white;}#sk-container-id-6 div.sk-label label {font-family: monospace;font-weight: bold;display: inline-block;line-height: 1.2em;}#sk-container-id-6 div.sk-label-container {text-align: center;}#sk-container-id-6 div.sk-container {/* jupyter's `normalize.less` sets `[hidden] { display: none; }` but bootstrap.min.css set `[hidden] { display: none !important; }` so we also need the `!important` here to be able to override the default hidden behavior on the sphinx rendered scikit-learn.org. See: https://github.com/scikit-learn/scikit-learn/issues/21755 */display: inline-block !important;position: relative;}#sk-container-id-6 div.sk-text-repr-fallback {display: none;}</style><div id=\"sk-container-id-6\" class=\"sk-top-container\"><div class=\"sk-text-repr-fallback\"><pre>Pipeline(steps=[(&#x27;columntransformer&#x27;,\n",
       "                 ColumnTransformer(remainder=&#x27;passthrough&#x27;,\n",
       "                                   transformers=[(&#x27;onehotencoder&#x27;,\n",
       "                                                  OneHotEncoder(categories=[array([&#x27;Audi A4 35 TDI Premium Plus&#x27;, &#x27;Audi A4 35 TDI Technology&#x27;,\n",
       "       &#x27;Audi A6 35 TDI Matrix&#x27;, &#x27;Audi Q3 30 TDI Premium FWD&#x27;,\n",
       "       &#x27;Audi Q3 35 TDI Quattro Premium Plus&#x27;, &#x27;BMW 3 Series Luxury Line&#x27;,\n",
       "       &#x27;BMW 5 Series 520d Luxury Line&#x27;, &#x27;BMW 5 Series 530i Sport Line&#x27;,\n",
       "       &#x27;Datsu...\n",
       "       &#x27;Toyota Innova Crysta 2.8 ZX AT&#x27;,\n",
       "       &#x27;Toyota Innova Crysta Touring Sport 2.4 MT&#x27;,\n",
       "       &#x27;Volkswagen Ameo 1.5 TDI Comfortline&#x27;,\n",
       "       &#x27;Volkswagen Ameo 1.5 TDI Highline&#x27;,\n",
       "       &#x27;Volkswagen Vento 1.5 TDI Highline&#x27;,\n",
       "       &#x27;Volkswagen Vento 1.5 TDI Highline Plus AT&#x27;,\n",
       "       &#x27;Volkswagen Vento 1.6 Trendline&#x27;], dtype=object),\n",
       "                                                                            array([&#x27;CNG&#x27;, &#x27;Diesel&#x27;, &#x27;Petrol&#x27;], dtype=object)]),\n",
       "                                                  [&#x27;Name&#x27;, &#x27;Fuel_Type&#x27;])])),\n",
       "                (&#x27;linearregression&#x27;, LinearRegression())])</pre><b>In a Jupyter environment, please rerun this cell to show the HTML representation or trust the notebook. <br />On GitHub, the HTML representation is unable to render, please try loading this page with nbviewer.org.</b></div><div class=\"sk-container\" hidden><div class=\"sk-item sk-dashed-wrapped\"><div class=\"sk-label-container\"><div class=\"sk-label sk-toggleable\"><input class=\"sk-toggleable__control sk-hidden--visually\" id=\"sk-estimator-id-18\" type=\"checkbox\" ><label for=\"sk-estimator-id-18\" class=\"sk-toggleable__label sk-toggleable__label-arrow\">Pipeline</label><div class=\"sk-toggleable__content\"><pre>Pipeline(steps=[(&#x27;columntransformer&#x27;,\n",
       "                 ColumnTransformer(remainder=&#x27;passthrough&#x27;,\n",
       "                                   transformers=[(&#x27;onehotencoder&#x27;,\n",
       "                                                  OneHotEncoder(categories=[array([&#x27;Audi A4 35 TDI Premium Plus&#x27;, &#x27;Audi A4 35 TDI Technology&#x27;,\n",
       "       &#x27;Audi A6 35 TDI Matrix&#x27;, &#x27;Audi Q3 30 TDI Premium FWD&#x27;,\n",
       "       &#x27;Audi Q3 35 TDI Quattro Premium Plus&#x27;, &#x27;BMW 3 Series Luxury Line&#x27;,\n",
       "       &#x27;BMW 5 Series 520d Luxury Line&#x27;, &#x27;BMW 5 Series 530i Sport Line&#x27;,\n",
       "       &#x27;Datsu...\n",
       "       &#x27;Toyota Innova Crysta 2.8 ZX AT&#x27;,\n",
       "       &#x27;Toyota Innova Crysta Touring Sport 2.4 MT&#x27;,\n",
       "       &#x27;Volkswagen Ameo 1.5 TDI Comfortline&#x27;,\n",
       "       &#x27;Volkswagen Ameo 1.5 TDI Highline&#x27;,\n",
       "       &#x27;Volkswagen Vento 1.5 TDI Highline&#x27;,\n",
       "       &#x27;Volkswagen Vento 1.5 TDI Highline Plus AT&#x27;,\n",
       "       &#x27;Volkswagen Vento 1.6 Trendline&#x27;], dtype=object),\n",
       "                                                                            array([&#x27;CNG&#x27;, &#x27;Diesel&#x27;, &#x27;Petrol&#x27;], dtype=object)]),\n",
       "                                                  [&#x27;Name&#x27;, &#x27;Fuel_Type&#x27;])])),\n",
       "                (&#x27;linearregression&#x27;, LinearRegression())])</pre></div></div></div><div class=\"sk-serial\"><div class=\"sk-item sk-dashed-wrapped\"><div class=\"sk-label-container\"><div class=\"sk-label sk-toggleable\"><input class=\"sk-toggleable__control sk-hidden--visually\" id=\"sk-estimator-id-19\" type=\"checkbox\" ><label for=\"sk-estimator-id-19\" class=\"sk-toggleable__label sk-toggleable__label-arrow\">columntransformer: ColumnTransformer</label><div class=\"sk-toggleable__content\"><pre>ColumnTransformer(remainder=&#x27;passthrough&#x27;,\n",
       "                  transformers=[(&#x27;onehotencoder&#x27;,\n",
       "                                 OneHotEncoder(categories=[array([&#x27;Audi A4 35 TDI Premium Plus&#x27;, &#x27;Audi A4 35 TDI Technology&#x27;,\n",
       "       &#x27;Audi A6 35 TDI Matrix&#x27;, &#x27;Audi Q3 30 TDI Premium FWD&#x27;,\n",
       "       &#x27;Audi Q3 35 TDI Quattro Premium Plus&#x27;, &#x27;BMW 3 Series Luxury Line&#x27;,\n",
       "       &#x27;BMW 5 Series 520d Luxury Line&#x27;, &#x27;BMW 5 Series 530i Sport Line&#x27;,\n",
       "       &#x27;Datsun GO Plus T Petrol&#x27;, &#x27;Datsun GO T Petrol&#x27;,\n",
       "       &#x27;Da...\n",
       "       &#x27;Toyota Innova Crysta 2.4 ZX MT&#x27;, &#x27;Toyota Innova Crysta 2.8 GX AT&#x27;,\n",
       "       &#x27;Toyota Innova Crysta 2.8 GX AT 8S&#x27;,\n",
       "       &#x27;Toyota Innova Crysta 2.8 ZX AT&#x27;,\n",
       "       &#x27;Toyota Innova Crysta Touring Sport 2.4 MT&#x27;,\n",
       "       &#x27;Volkswagen Ameo 1.5 TDI Comfortline&#x27;,\n",
       "       &#x27;Volkswagen Ameo 1.5 TDI Highline&#x27;,\n",
       "       &#x27;Volkswagen Vento 1.5 TDI Highline&#x27;,\n",
       "       &#x27;Volkswagen Vento 1.5 TDI Highline Plus AT&#x27;,\n",
       "       &#x27;Volkswagen Vento 1.6 Trendline&#x27;], dtype=object),\n",
       "                                                           array([&#x27;CNG&#x27;, &#x27;Diesel&#x27;, &#x27;Petrol&#x27;], dtype=object)]),\n",
       "                                 [&#x27;Name&#x27;, &#x27;Fuel_Type&#x27;])])</pre></div></div></div><div class=\"sk-parallel\"><div class=\"sk-parallel-item\"><div class=\"sk-item\"><div class=\"sk-label-container\"><div class=\"sk-label sk-toggleable\"><input class=\"sk-toggleable__control sk-hidden--visually\" id=\"sk-estimator-id-20\" type=\"checkbox\" ><label for=\"sk-estimator-id-20\" class=\"sk-toggleable__label sk-toggleable__label-arrow\">onehotencoder</label><div class=\"sk-toggleable__content\"><pre>[&#x27;Name&#x27;, &#x27;Fuel_Type&#x27;]</pre></div></div></div><div class=\"sk-serial\"><div class=\"sk-item\"><div class=\"sk-estimator sk-toggleable\"><input class=\"sk-toggleable__control sk-hidden--visually\" id=\"sk-estimator-id-21\" type=\"checkbox\" ><label for=\"sk-estimator-id-21\" class=\"sk-toggleable__label sk-toggleable__label-arrow\">OneHotEncoder</label><div class=\"sk-toggleable__content\"><pre>OneHotEncoder(categories=[array([&#x27;Audi A4 35 TDI Premium Plus&#x27;, &#x27;Audi A4 35 TDI Technology&#x27;,\n",
       "       &#x27;Audi A6 35 TDI Matrix&#x27;, &#x27;Audi Q3 30 TDI Premium FWD&#x27;,\n",
       "       &#x27;Audi Q3 35 TDI Quattro Premium Plus&#x27;, &#x27;BMW 3 Series Luxury Line&#x27;,\n",
       "       &#x27;BMW 5 Series 520d Luxury Line&#x27;, &#x27;BMW 5 Series 530i Sport Line&#x27;,\n",
       "       &#x27;Datsun GO Plus T Petrol&#x27;, &#x27;Datsun GO T Petrol&#x27;,\n",
       "       &#x27;Datsun redi-GO T Option&#x27;,\n",
       "       &#x27;Fiat Avventura Urban Cross 1.3 Multijet Emotion&#x27;,\n",
       "       &#x27;Fiat Line...\n",
       "       &#x27;Toyota Innova Crysta 2.4 ZX MT&#x27;, &#x27;Toyota Innova Crysta 2.8 GX AT&#x27;,\n",
       "       &#x27;Toyota Innova Crysta 2.8 GX AT 8S&#x27;,\n",
       "       &#x27;Toyota Innova Crysta 2.8 ZX AT&#x27;,\n",
       "       &#x27;Toyota Innova Crysta Touring Sport 2.4 MT&#x27;,\n",
       "       &#x27;Volkswagen Ameo 1.5 TDI Comfortline&#x27;,\n",
       "       &#x27;Volkswagen Ameo 1.5 TDI Highline&#x27;,\n",
       "       &#x27;Volkswagen Vento 1.5 TDI Highline&#x27;,\n",
       "       &#x27;Volkswagen Vento 1.5 TDI Highline Plus AT&#x27;,\n",
       "       &#x27;Volkswagen Vento 1.6 Trendline&#x27;], dtype=object),\n",
       "                          array([&#x27;CNG&#x27;, &#x27;Diesel&#x27;, &#x27;Petrol&#x27;], dtype=object)])</pre></div></div></div></div></div></div><div class=\"sk-parallel-item\"><div class=\"sk-item\"><div class=\"sk-label-container\"><div class=\"sk-label sk-toggleable\"><input class=\"sk-toggleable__control sk-hidden--visually\" id=\"sk-estimator-id-22\" type=\"checkbox\" ><label for=\"sk-estimator-id-22\" class=\"sk-toggleable__label sk-toggleable__label-arrow\">remainder</label><div class=\"sk-toggleable__content\"><pre>[&#x27;Year&#x27;, &#x27;Kilometers_Driven&#x27;, &#x27;Mileage&#x27;, &#x27;Engine&#x27;, &#x27;Power&#x27;, &#x27;Seats&#x27;]</pre></div></div></div><div class=\"sk-serial\"><div class=\"sk-item\"><div class=\"sk-estimator sk-toggleable\"><input class=\"sk-toggleable__control sk-hidden--visually\" id=\"sk-estimator-id-23\" type=\"checkbox\" ><label for=\"sk-estimator-id-23\" class=\"sk-toggleable__label sk-toggleable__label-arrow\">passthrough</label><div class=\"sk-toggleable__content\"><pre>passthrough</pre></div></div></div></div></div></div></div></div><div class=\"sk-item\"><div class=\"sk-estimator sk-toggleable\"><input class=\"sk-toggleable__control sk-hidden--visually\" id=\"sk-estimator-id-24\" type=\"checkbox\" ><label for=\"sk-estimator-id-24\" class=\"sk-toggleable__label sk-toggleable__label-arrow\">LinearRegression</label><div class=\"sk-toggleable__content\"><pre>LinearRegression()</pre></div></div></div></div></div></div></div>"
      ],
      "text/plain": [
       "Pipeline(steps=[('columntransformer',\n",
       "                 ColumnTransformer(remainder='passthrough',\n",
       "                                   transformers=[('onehotencoder',\n",
       "                                                  OneHotEncoder(categories=[array(['Audi A4 35 TDI Premium Plus', 'Audi A4 35 TDI Technology',\n",
       "       'Audi A6 35 TDI Matrix', 'Audi Q3 30 TDI Premium FWD',\n",
       "       'Audi Q3 35 TDI Quattro Premium Plus', 'BMW 3 Series Luxury Line',\n",
       "       'BMW 5 Series 520d Luxury Line', 'BMW 5 Series 530i Sport Line',\n",
       "       'Datsu...\n",
       "       'Toyota Innova Crysta 2.8 ZX AT',\n",
       "       'Toyota Innova Crysta Touring Sport 2.4 MT',\n",
       "       'Volkswagen Ameo 1.5 TDI Comfortline',\n",
       "       'Volkswagen Ameo 1.5 TDI Highline',\n",
       "       'Volkswagen Vento 1.5 TDI Highline',\n",
       "       'Volkswagen Vento 1.5 TDI Highline Plus AT',\n",
       "       'Volkswagen Vento 1.6 Trendline'], dtype=object),\n",
       "                                                                            array(['CNG', 'Diesel', 'Petrol'], dtype=object)]),\n",
       "                                                  ['Name', 'Fuel_Type'])])),\n",
       "                ('linearregression', LinearRegression())])"
      ]
     },
     "execution_count": 153,
     "metadata": {},
     "output_type": "execute_result"
    }
   ],
   "source": [
    "pipe.fit(x_train,y_train)"
   ]
  },
  {
   "cell_type": "code",
   "execution_count": 154,
   "id": "12724e3d-5453-42c5-a7d7-39b3f56aa1fd",
   "metadata": {},
   "outputs": [],
   "source": [
    "y_pred = pipe.predict(x_test)"
   ]
  },
  {
   "cell_type": "code",
   "execution_count": 158,
   "id": "9dba315e-afc5-44fe-943d-e4f66bb2d70e",
   "metadata": {},
   "outputs": [
    {
     "data": {
      "text/plain": [
       "0.7526094152313528"
      ]
     },
     "execution_count": 158,
     "metadata": {},
     "output_type": "execute_result"
    }
   ],
   "source": [
    "r2_score(y_test,y_pred)"
   ]
  },
  {
   "cell_type": "code",
   "execution_count": 159,
   "id": "2f929914-1cb7-4436-a781-5b7d3d39a252",
   "metadata": {},
   "outputs": [],
   "source": [
    "scores=[]\n",
    "for i in range(1000):\n",
    "    x_train,x_test,y_train,y_test=train_test_split(x,y,test_size=0.2, random_state=i)\n",
    "    lr=LinearRegression()\n",
    "    pipe=make_pipeline(column_trans,lr)\n",
    "    pipe.fit(x_train,y_train)\n",
    "    y_pred=pipe.predict(x_test)\n",
    "    scores.append(r2_score(y_test, y_pred))"
   ]
  },
  {
   "cell_type": "code",
   "execution_count": 160,
   "id": "d807a4bb-f407-4df5-9bc4-8523e4ff5263",
   "metadata": {},
   "outputs": [
    {
     "data": {
      "text/plain": [
       "258"
      ]
     },
     "execution_count": 160,
     "metadata": {},
     "output_type": "execute_result"
    }
   ],
   "source": [
    "np.argmax(scores)"
   ]
  },
  {
   "cell_type": "code",
   "execution_count": 161,
   "id": "ac2f8fa7-510f-417b-a6b5-e3027776f969",
   "metadata": {},
   "outputs": [
    {
     "data": {
      "text/plain": [
       "0.9402883243543385"
      ]
     },
     "execution_count": 161,
     "metadata": {},
     "output_type": "execute_result"
    }
   ],
   "source": [
    "scores[np.argmax(scores)]"
   ]
  },
  {
   "cell_type": "code",
   "execution_count": 162,
   "id": "2bb4bee8-f563-4faf-9d90-32b171941b01",
   "metadata": {},
   "outputs": [
    {
     "data": {
      "text/plain": [
       "0.9402883243543385"
      ]
     },
     "execution_count": 162,
     "metadata": {},
     "output_type": "execute_result"
    }
   ],
   "source": [
    "x_train,x_test,y_train,y_test=train_test_split(x,y,test_size=0.2, random_state=np.argmax(scores))\n",
    "lr=LinearRegression()\n",
    "pipe=make_pipeline(column_trans,lr)\n",
    "pipe.fit(x_train,y_train)\n",
    "y_pred=pipe.predict(x_test)\n",
    "r2_score(y_test,y_pred)"
   ]
  },
  {
   "cell_type": "code",
   "execution_count": 163,
   "id": "ecce7d82-1dc8-45c8-8e73-bcca33277230",
   "metadata": {},
   "outputs": [],
   "source": [
    "import pickle"
   ]
  },
  {
   "cell_type": "code",
   "execution_count": 164,
   "id": "2efc52f2-541b-449d-b60c-8a1fb33aa228",
   "metadata": {},
   "outputs": [],
   "source": [
    "pickle.dump(pipe,open('Linear_Regression_Model.pkl','wb'))"
   ]
  },
  {
   "cell_type": "code",
   "execution_count": 165,
   "id": "c8c0b217-dd3b-4a39-b12b-f0dcc131b3a8",
   "metadata": {},
   "outputs": [
    {
     "data": {
      "text/plain": [
       "array([2112842.35356851])"
      ]
     },
     "execution_count": 165,
     "metadata": {},
     "output_type": "execute_result"
    }
   ],
   "source": [
    "pipe.predict(pd.DataFrame([['Jeep Compass 1.4 Sport',2018,100,'Petrol',16.00,1368.0,160.00,5.0]], columns=['Name','Year','Kilometers_Driven','Fuel_Type','Mileage','Engine','Power','Seats']))"
   ]
  },
  {
   "cell_type": "code",
   "execution_count": null,
   "id": "628a93f0-2dff-481d-a1d0-35bfc20cc58d",
   "metadata": {},
   "outputs": [],
   "source": []
  }
 ],
 "metadata": {
  "kernelspec": {
   "display_name": "Python 3 (ipykernel)",
   "language": "python",
   "name": "python3"
  },
  "language_info": {
   "codemirror_mode": {
    "name": "ipython",
    "version": 3
   },
   "file_extension": ".py",
   "mimetype": "text/x-python",
   "name": "python",
   "nbconvert_exporter": "python",
   "pygments_lexer": "ipython3",
   "version": "3.11.3"
  }
 },
 "nbformat": 4,
 "nbformat_minor": 5
}
